{
 "cells": [
  {
   "cell_type": "code",
   "execution_count": 1,
   "metadata": {},
   "outputs": [],
   "source": [
    "import sqlite3"
   ]
  },
  {
   "cell_type": "code",
   "execution_count": 23,
   "metadata": {},
   "outputs": [],
   "source": [
    "conn = sqlite3.connect(\"C:/Users/Admin/Downloads/Students.db\")\n",
    "crs = conn.cursor()"
   ]
  },
  {
   "cell_type": "code",
   "execution_count": 5,
   "metadata": {},
   "outputs": [
    {
     "data": {
      "text/plain": [
       "[(4,)]"
      ]
     },
     "execution_count": 5,
     "metadata": {},
     "output_type": "execute_result"
    }
   ],
   "source": [
    "# 1 Напишите запрос для подсчета количества студентов, сдававших экзамен по предмету обучения с идентификатором 73.\n",
    "\n",
    "s = \"\"\"\n",
    "SELECT count(STUDENT_ID) FROM EXAM_MARKS WHERE MARK IS NOT NULL AND SUBJ_ID = 73;\n",
    "\"\"\"\n",
    "crs.execute(s).fetchall()"
   ]
  },
  {
   "cell_type": "code",
   "execution_count": 9,
   "metadata": {},
   "outputs": [
    {
     "data": {
      "text/plain": [
       "[(9,)]"
      ]
     },
     "execution_count": 9,
     "metadata": {},
     "output_type": "execute_result"
    }
   ],
   "source": [
    "# 2. Напишите запрос, который позволяет подсчитать в таблице EXAM_MARKS количество различных предметов обучения.\n",
    "\n",
    "s = \"\"\"\n",
    "SELECT count(distinct subj_id) AS Number\n",
    "    FROM exam_marks\n",
    "\"\"\"\n",
    "crs.execute(s).fetchall()"
   ]
  },
  {
   "cell_type": "code",
   "execution_count": 10,
   "metadata": {},
   "outputs": [
    {
     "name": "stdout",
     "output_type": "stream",
     "text": [
      "[(1, 1), (6, 4), (10, 5), (12, 2), (15, 5), (32, 4), (55, 5), (62, 4), (64, 4), (65, 1), (71, 3), (73, 1), (76, 2), (77, 1), (79, 1), (82, 5), (83, 1), (85, 1), (88, 5), (90, 4), (91, 5), (92, 5), (97, 1), (99, 5), (101, 2), (103, 2), (105, 3), (110, 1), (116, 1), (117, 4), (123, 2), (126, 1), (128, 3), (149, 2), (203, 3)]\n"
     ]
    }
   ],
   "source": [
    "# 3. Напишите запрос, который для каждого студента выполняет выборку его идентификатора\n",
    "#    и минимальной из полученных им оценок.\n",
    "\n",
    "s = '''\n",
    "SELECT student_id, min(mark) as \"Min_mark\"\n",
    "    from 'exam_marks'\n",
    "    group by student_id;\n",
    "'''\n",
    "print(crs.execute(s).fetchall())"
   ]
  },
  {
   "cell_type": "code",
   "execution_count": 6,
   "metadata": {},
   "outputs": [
    {
     "name": "stdout",
     "output_type": "stream",
     "text": [
      "[(1, 1), (6, 4), (10, 5), (12, 5), (15, 5), (32, 4), (55, 5), (62, 4), (64, 4), (65, 1), (71, 3), (73, 1), (76, 2), (77, 1), (79, 1), (82, 5), (83, 1), (85, 4), (88, 5), (90, 4), (91, 5), (92, 5), (97, 1), (99, 5), (101, 2), (103, 2), (105, 3), (110, 1), (116, 1), (117, 4), (123, 2), (126, 1), (128, 5), (149, 2), (203, 3)]\n"
     ]
    }
   ],
   "source": [
    "# 4. Напишите запрос, который для каждого студента выполняет выборку его идентификатора \n",
    "#    и максимальной из полученных им оценок.\n",
    "\n",
    "s = \"\"\"\n",
    "SELECT student_id, MAX(mark)\n",
    "FROM exam_marks\n",
    "GROUP BY student_id\n",
    "\"\"\"\n",
    "print(crs.execute(s).fetchall())"
   ]
  },
  {
   "cell_type": "code",
   "execution_count": 7,
   "metadata": {},
   "outputs": [
    {
     "data": {
      "text/plain": [
       "[('Иванов',)]"
      ]
     },
     "execution_count": 7,
     "metadata": {},
     "output_type": "execute_result"
    }
   ],
   "source": [
    "# 5. Напишите запрос, выполняющий вывод первой по алфавиту фамилии студента, начинающейся на букву \"И\"\n",
    "\n",
    "s = '''\n",
    "select surname\n",
    "from student\n",
    "where surname like 'И%' order by surname limit 1;\n",
    "'''\n",
    "crs.execute(s).fetchall()"
   ]
  },
  {
   "cell_type": "code",
   "execution_count": 8,
   "metadata": {},
   "outputs": [
    {
     "data": {
      "text/plain": [
       "[('Анализ данных', 1),\n",
       " ('Английский язык', 3),\n",
       " ('Информатика', 1),\n",
       " ('История', 4),\n",
       " ('Математика', 2),\n",
       " ('ОБЖ', 2),\n",
       " ('Обработка данных и моделирование в Excel', 3),\n",
       " ('Программирование на языках Python и SQL', 2),\n",
       " ('Теория вероятностей и математическая статистика', 4),\n",
       " ('Физика', 1),\n",
       " ('Физкультура', 5)]"
      ]
     },
     "execution_count": 8,
     "metadata": {},
     "output_type": "execute_result"
    }
   ],
   "source": [
    "'''6. Напишите запрос, который для каждого предмета обучения выводит наименование предмета \n",
    "и максимальное значение номера семестра, в котором этот предмет преподается.'''\n",
    "\n",
    "s = \"\"\"\n",
    "SELECT subj_name, max(semester)\n",
    "    FROM subject\n",
    "    GROUP by subj_name\n",
    "\"\"\"\n",
    "crs.execute(s).fetchall()"
   ]
  },
  {
   "cell_type": "code",
   "execution_count": 9,
   "metadata": {},
   "outputs": [
    {
     "data": {
      "text/plain": [
       "[('2000-01-18', 1),\n",
       " ('2000-01-23', 2),\n",
       " ('2006-05-12', 1),\n",
       " ('2006-06-17', 1),\n",
       " ('2019-05-26', 1),\n",
       " ('2019-05-29', 9),\n",
       " ('2019-09-02', 1),\n",
       " ('2019-12-25', 1),\n",
       " ('2019-12-31', 1),\n",
       " ('2020-02-10', 1),\n",
       " ('2020-02-21', 3),\n",
       " ('2020-02-22', 1),\n",
       " ('2020-05-26', 7),\n",
       " ('2020-05-27', 2),\n",
       " ('2020-08-18', 1),\n",
       " ('2020-09-21', 1),\n",
       " ('2020-10-24', 1),\n",
       " ('2020-12-03', 1),\n",
       " ('2021-06-02', 5)]"
      ]
     },
     "execution_count": 9,
     "metadata": {},
     "output_type": "execute_result"
    }
   ],
   "source": [
    "#7. Напишите запрос, который для каждого конкретного дня сдачи экзамена \n",
    "# выводит данные о количестве студентов, сдававших экзамен в этот день.\n",
    "\n",
    "s = 'select date(exam_date), count(student_id) from exam_marks group by date(exam_date)'\n",
    "crs.execute(s).fetchall()"
   ]
  },
  {
   "cell_type": "code",
   "execution_count": 10,
   "metadata": {},
   "outputs": [
    {
     "name": "stdout",
     "output_type": "stream",
     "text": [
      "35\n"
     ]
    },
    {
     "data": {
      "text/plain": [
       "[(1, 1.0),\n",
       " (6, 4.0),\n",
       " (10, 5.0),\n",
       " (12, 3.5),\n",
       " (15, 5.0),\n",
       " (32, 4.0),\n",
       " (55, 5.0),\n",
       " (62, 4.0),\n",
       " (64, 4.0),\n",
       " (65, 1.0),\n",
       " (71, 3.0),\n",
       " (73, 1.0),\n",
       " (76, 2.0),\n",
       " (77, 1.0),\n",
       " (79, 1.0),\n",
       " (82, 5.0),\n",
       " (83, 1.0),\n",
       " (85, 2.5),\n",
       " (88, 5.0),\n",
       " (90, 4.0),\n",
       " (91, 5.0),\n",
       " (92, 5.0),\n",
       " (97, 1.0),\n",
       " (99, 5.0),\n",
       " (101, 2.0),\n",
       " (103, 2.0),\n",
       " (105, 3.0),\n",
       " (110, 1.0),\n",
       " (116, 1.0),\n",
       " (117, 4.0),\n",
       " (123, 2.0),\n",
       " (126, 1.0),\n",
       " (128, 4.0),\n",
       " (149, 2.0),\n",
       " (203, 3.0)]"
      ]
     },
     "execution_count": 10,
     "metadata": {},
     "output_type": "execute_result"
    }
   ],
   "source": [
    "# 8. Напишите запрос, выдающий средний балл для каждого студента.\n",
    "\n",
    "s = \"\"\"\n",
    "SELECT STUDENT_ID, AVG(MARK) AS \"Средний балл\"\n",
    "FROM EXAM_MARKS\n",
    "GROUP BY STUDENT_ID\n",
    "\"\"\"\n",
    "result=crs.execute(s).fetchall()\n",
    "print(len(result))\n",
    "result"
   ]
  },
  {
   "cell_type": "code",
   "execution_count": 11,
   "metadata": {},
   "outputs": [
    {
     "name": "stdout",
     "output_type": "stream",
     "text": [
      "9\n"
     ]
    },
    {
     "data": {
      "text/plain": [
       "[(10, 3.6666666666666665),\n",
       " (11, 1.0),\n",
       " (12, 2.0),\n",
       " (13, 2.5),\n",
       " (22, 2.8333333333333335),\n",
       " (43, 2.0),\n",
       " (56, 3.1666666666666665),\n",
       " (73, 3.0),\n",
       " (94, 3.6666666666666665)]"
      ]
     },
     "execution_count": 11,
     "metadata": {},
     "output_type": "execute_result"
    }
   ],
   "source": [
    "# 9 Напишите запрос, выдающий средний балл для экзамена по каждому предмету.\n",
    "\n",
    "s = \"\"\"\n",
    "SELECT subj_id, AVG(mark)\n",
    "FROM exam_marks\n",
    "GROUP BY subj_id;\n",
    "\"\"\"\n",
    "result=crs.execute(s).fetchall()\n",
    "print(len(result))\n",
    "result"
   ]
  },
  {
   "cell_type": "code",
   "execution_count": 12,
   "metadata": {},
   "outputs": [
    {
     "name": "stdout",
     "output_type": "stream",
     "text": [
      "8\n"
     ]
    },
    {
     "data": {
      "text/plain": [
       "[(10, 7), (12, 1), (13, 1), (22, 3), (43, 1), (56, 3), (73, 3), (94, 2)]"
      ]
     },
     "execution_count": 12,
     "metadata": {},
     "output_type": "execute_result"
    }
   ],
   "source": [
    "# 10. Напишите запрос, определяющий количество сдавших студентов для каждого предмета (оценка больше двух).\n",
    "\n",
    "s = \"\"\"\n",
    "SELECT subj_id, count(distinct(student_id)) as \"Amount_of_students\"\n",
    "    FROM exam_marks\n",
    "    where mark > 2\n",
    "    group by subj_id;\n",
    "\"\"\"\n",
    "result=crs.execute(s).fetchall()\n",
    "print(len(result))\n",
    "result"
   ]
  },
  {
   "cell_type": "code",
   "execution_count": 13,
   "metadata": {},
   "outputs": [
    {
     "name": "stdout",
     "output_type": "stream",
     "text": [
      "3\n"
     ]
    },
    {
     "data": {
      "text/plain": [
       "[(1.0, 6), (2.0, 5), (3.0, 1)]"
      ]
     },
     "execution_count": 13,
     "metadata": {},
     "output_type": "execute_result"
    }
   ],
   "source": [
    "# 11. Напишите запрос для определения количества предметов, изучаемых на каждом курсе.\n",
    "\n",
    "s = \"\"\"\n",
    "select round(semester/2.0), count(subj_id)\n",
    "    from subject\n",
    "    group by round(semester/2.0);\n",
    "\"\"\"\n",
    "result=crs.execute(s).fetchall()\n",
    "print(len(result))\n",
    "result"
   ]
  },
  {
   "cell_type": "code",
   "execution_count": 19,
   "metadata": {},
   "outputs": [
    {
     "name": "stdout",
     "output_type": "stream",
     "text": [
      "12\n"
     ]
    },
    {
     "data": {
      "text/plain": [
       "[(15, 350),\n",
       " (11, 400),\n",
       " (45, 650),\n",
       " (48, 800),\n",
       " (18, 850),\n",
       " (32, 1050),\n",
       " (47, 1050),\n",
       " (46, 1250),\n",
       " (14, 1350),\n",
       " (22, 1480),\n",
       " (44, 1730),\n",
       " (10, 2250)]"
      ]
     },
     "execution_count": 19,
     "metadata": {},
     "output_type": "execute_result"
    }
   ],
   "source": [
    "#12. Для каждого университета напишите запрос, выводящий суммарную стипендию обучающихся в нем студентов, \n",
    "# с последующей сортировкой списка по этому значению.\n",
    "\n",
    "s = \"\"\"\n",
    "select univ_id, sum(stipend) as Sum_of_stipend\n",
    "    from student\n",
    "    group by univ_id\n",
    "    order by Sum_of_stipend asc;\n",
    "\"\"\"\n",
    "result=crs.execute(s).fetchall()\n",
    "print(len(result))\n",
    "result"
   ]
  },
  {
   "cell_type": "code",
   "execution_count": 21,
   "metadata": {},
   "outputs": [
    {
     "name": "stdout",
     "output_type": "stream",
     "text": [
      "12\n"
     ]
    },
    {
     "data": {
      "text/plain": [
       "[('Анализ данных', 1, 42),\n",
       " ('Английский язык', 3, 56),\n",
       " ('Информатика', 1, 56),\n",
       " ('История', 4, 34),\n",
       " ('Математика', 2, 56),\n",
       " ('ОБЖ', 2, 34),\n",
       " ('Обработка данных и моделирование в Excel', 3, 36),\n",
       " ('Программирование на языках Python и SQL', 2, 34),\n",
       " ('Теория вероятностей и математическая статистика', 4, 72),\n",
       " ('Физика', 1, 34),\n",
       " ('Физкультура', 4, 32),\n",
       " ('Физкультура', 5, 34)]"
      ]
     },
     "execution_count": 21,
     "metadata": {},
     "output_type": "execute_result"
    }
   ],
   "source": [
    "'''13. Для каждого семестра напишите запрос, выводящий общее количество часов, \n",
    "отводимое на изучение соответствующих предметов.'''\n",
    "\n",
    "s = \"\"\"\n",
    "SELECT subj_name, semester, hour\n",
    "FROM subject\n",
    "ORDER BY subj_name\n",
    "\"\"\"\n",
    "result=crs.execute(s).fetchall()\n",
    "result"
   ]
  },
  {
   "cell_type": "code",
   "execution_count": 32,
   "metadata": {},
   "outputs": [
    {
     "name": "stdout",
     "output_type": "stream",
     "text": [
      "35\n"
     ]
    },
    {
     "data": {
      "text/plain": [
       "[(1, 1.0),\n",
       " (6, 4.0),\n",
       " (10, 5.0),\n",
       " (12, 3.5),\n",
       " (15, 5.0),\n",
       " (32, 4.0),\n",
       " (55, 5.0),\n",
       " (62, 4.0),\n",
       " (64, 4.0),\n",
       " (65, 1.0),\n",
       " (71, 3.0),\n",
       " (73, 1.0),\n",
       " (76, 2.0),\n",
       " (77, 1.0),\n",
       " (79, 1.0),\n",
       " (82, 5.0),\n",
       " (83, 1.0),\n",
       " (85, 2.5),\n",
       " (88, 5.0),\n",
       " (90, 4.0),\n",
       " (91, 5.0),\n",
       " (92, 5.0),\n",
       " (97, 1.0),\n",
       " (99, 5.0),\n",
       " (101, 2.0),\n",
       " (103, 2.0),\n",
       " (105, 3.0),\n",
       " (110, 1.0),\n",
       " (116, 1.0),\n",
       " (117, 4.0),\n",
       " (123, 2.0),\n",
       " (126, 1.0),\n",
       " (128, 4.0),\n",
       " (149, 2.0),\n",
       " (203, 3.0)]"
      ]
     },
     "execution_count": 32,
     "metadata": {},
     "output_type": "execute_result"
    }
   ],
   "source": [
    "'''14. Для каждого студента напишите запрос, выводящий среднее значение оценок, \n",
    "полученных им на всех экзаменах.'''\n",
    "\n",
    "s = \"\"\"\n",
    "SELECT student_id, AVG(mark)\n",
    "FROM exam_marks\n",
    "GROUP BY student_id\n",
    "\"\"\"\n",
    "result=crs.execute(s).fetchall()\n",
    "result"
   ]
  },
  {
   "cell_type": "code",
   "execution_count": 44,
   "metadata": {},
   "outputs": [
    {
     "name": "stdout",
     "output_type": "stream",
     "text": [
      "34\n"
     ]
    },
    {
     "data": {
      "text/plain": [
       "[('Иванов', 'Иван', 'Математика', 1.0),\n",
       " ('Сидоров', 'Вадим', 'Физика', 4.0),\n",
       " ('Кузнецов', 'Борис', 'Анализ данных', 5.0),\n",
       " ('Зайцева', 'Ольга', 'Информатика', 3.5),\n",
       " ('Котов', 'Павел', 'Информатика', 4.0),\n",
       " ('Белкин', 'Вадим', 'Информатика', 5.0),\n",
       " ('Семенова', 'Вероника', 'Английский язык', 4.0),\n",
       " ('Жук', 'Оксана', 'Физкультура', 4.0),\n",
       " ('Сергеева', 'Фёкла', 'Физкультура', 1.0),\n",
       " ('Кондрат', 'Синицин', 'Информатика', 3.0),\n",
       " ('Одинцова', 'Лидия', 'Программирование на языках Python и SQL', 1.0),\n",
       " ('Мельникова', 'Дарья', 'История', 2.0),\n",
       " ('Мишина', 'Светлана', 'Анализ данных', 1.0),\n",
       " ('Афанасьева', 'Анжелика', 'Анализ данных', 1.0),\n",
       " ('Лапина', 'Элеонора', 'История', 5.0),\n",
       " ('Сорокина', 'Ирина', 'Физика', 1.0),\n",
       " ('Казакова', 'Мария', 'Физкультура', 2.5),\n",
       " ('Жданова', 'Ирина', 'История', 5.0),\n",
       " ('Костина', 'Кира', 'Физика', 4.0),\n",
       " ('Блохина', 'Ираида', 'Физика', 5.0),\n",
       " ('Мельникова', 'Светлана', 'Информатика', 5.0),\n",
       " ('Вишнякова', 'Анжела', 'Информатика', 1.0),\n",
       " ('Борисова', 'Марина', 'Английский язык', 5.0),\n",
       " ('Калашников', 'Евгений', 'Английский язык', 2.0),\n",
       " ('Трофимов', 'Владислав', 'Физика', 2.0),\n",
       " ('Антонов', 'Анатолий', 'Информатика', 3.0),\n",
       " ('Суханов', 'Константин', 'Физика', 1.0),\n",
       " ('Федоров', 'Гостомысл', 'Анализ данных', 1.0),\n",
       " ('Лазарев', 'Константин', 'История', 4.0),\n",
       " ('Веселов', 'Тимур', 'История', 2.0),\n",
       " ('Жуков', 'Пров', 'История', 1.0),\n",
       " ('Васильев', 'Матвей', 'Физкультура', 4.0),\n",
       " ('Вячеслав', 'Пахомов', 'ОБЖ', 2.0),\n",
       " ('Петрова', 'Екатерина', 'Математика', 3.0)]"
      ]
     },
     "execution_count": 44,
     "metadata": {},
     "output_type": "execute_result"
    }
   ],
   "source": [
    "\"\"\"15. Для каждого студента напишите запрос, выводящий среднее значение оценок, \n",
    "полученных им по каждому предмету.\"\"\"\n",
    "\n",
    "s = \"\"\"\n",
    "SELECT student.surname, student.name, subject.subj_name, AVG(exam_marks.mark)\n",
    "FROM exam_marks join student join subject\n",
    "ON (exam_marks.student_id = student.student_id) and (subject.subj_id = exam_marks.subj_id)\n",
    "GROUP BY exam_marks.student_id\n",
    "\"\"\"\n",
    "result=crs.execute(s).fetchall()\n",
    "result"
   ]
  },
  {
   "cell_type": "code",
   "execution_count": 84,
   "metadata": {},
   "outputs": [
    {
     "data": {
      "text/plain": [
       "[('Улан-Удэ', 3),\n",
       " ('Орел', 3),\n",
       " ('Москва', 3),\n",
       " ('Курск', 3),\n",
       " ('Воронеж', 3),\n",
       " ('Новый Уренгой', 2),\n",
       " ('Мурманск', 2),\n",
       " ('Магадан', 2),\n",
       " ('Липецк', 2),\n",
       " ('Кропоткин (Краснод.)', 2),\n",
       " ('Иркутск', 2),\n",
       " ('Джубга', 2),\n",
       " ('Брянск', 2),\n",
       " ('Белгород', 2),\n",
       " ('Чебоксары', 1),\n",
       " ('Ханты-Мансийск', 1),\n",
       " ('Уфа', 1),\n",
       " ('Устюжна', 1),\n",
       " ('Усть-Кут', 1),\n",
       " ('Усть-Джегута', 1),\n",
       " ('Усмань', 1),\n",
       " ('Усинск', 1),\n",
       " ('Ульяновск', 1),\n",
       " ('Тимашевск', 1),\n",
       " ('Тверь', 1),\n",
       " ('Сыктывкар', 1),\n",
       " ('Сургут (Хант.)', 1),\n",
       " ('Славянск-на-Кубани', 1),\n",
       " ('Саянск', 1),\n",
       " ('Рыльск', 1),\n",
       " ('Рубцовск', 1),\n",
       " ('Ростов', 1),\n",
       " ('Рославль', 1),\n",
       " ('Пятигорск', 1),\n",
       " ('Новосибирск', 1),\n",
       " ('Нижний Новгород', 1),\n",
       " ('Нижневартовск', 1),\n",
       " ('Нерчинск', 1),\n",
       " ('Невинномысск', 1),\n",
       " ('Невельск (Сахалин)', 1),\n",
       " ('Нальчик', 1),\n",
       " ('Кыштым', 1),\n",
       " ('Курганинск', 1),\n",
       " ('Корсаков', 1),\n",
       " ('Колпашево', 1),\n",
       " ('Кисловодск', 1),\n",
       " ('Кизилюрт', 1),\n",
       " ('Кемерово', 1),\n",
       " ('Камень-на-Оби', 1),\n",
       " ('Калининград', 1),\n",
       " ('Ишим', 1),\n",
       " ('Игарка', 1),\n",
       " ('Иваново', 1),\n",
       " ('Жуковский', 1),\n",
       " ('Енисейск', 1),\n",
       " ('Грозный', 1),\n",
       " ('Геленджик', 1),\n",
       " ('Воркута', 1),\n",
       " ('Волоколамск', 1),\n",
       " ('Вологда', 1),\n",
       " ('Волгоград', 1),\n",
       " ('Владикавказ', 1),\n",
       " ('Верхоянск', 1),\n",
       " ('Верхний Баскунчак', 1),\n",
       " ('Беломорск', 1),\n",
       " ('Байкальск', 1),\n",
       " ('Архангельск', 1),\n",
       " ('Ангарск', 1),\n",
       " (None, 0)]"
      ]
     },
     "execution_count": 84,
     "metadata": {},
     "output_type": "execute_result"
    }
   ],
   "source": [
    "'''16. Напишите запрос, выводящий количество студентов, проживающих в каждом городе. \n",
    "Список отсортировать в порядке убывания количества студентов.'''\n",
    "\n",
    "s = \"\"\"\n",
    "SELECT city, count(city)\n",
    "FROM student\n",
    "GROUP BY city\n",
    "ORDER BY count(city) DESC\n",
    "\"\"\"\n",
    "result=crs.execute(s).fetchall()\n",
    "result"
   ]
  },
  {
   "cell_type": "code",
   "execution_count": 91,
   "metadata": {},
   "outputs": [
    {
     "data": {
      "text/plain": [
       "[('ВГУ', 16),\n",
       " ('ФинУ', 10),\n",
       " ('МГУ', 10),\n",
       " ('ФГБОУ \"Политех\"', 9),\n",
       " ('БГУ', 9),\n",
       " ('РГУ', 7),\n",
       " ('КФУ', 6),\n",
       " ('ВГМА', 6),\n",
       " ('УЛГУ', 5),\n",
       " ('МГТУ им. Баумана', 5),\n",
       " ('НГУ', 4),\n",
       " ('ТГУ', 2)]"
      ]
     },
     "execution_count": 91,
     "metadata": {},
     "output_type": "execute_result"
    }
   ],
   "source": [
    "'''17. Для каждого университета напишите запрос, выводящий количество обучающихся в\n",
    "нем студентов, с последующей сортировкой списка по этому количеству'''\n",
    "\n",
    "s = \"\"\"\n",
    "SELECT university.univ_name, count(student.univ_id)\n",
    "FROM student join university\n",
    "ON (student.univ_id = university.univ_id)\n",
    "\n",
    "GROUP BY student.univ_id\n",
    "ORDER BY count(student.univ_id) DESC\n",
    "\"\"\"\n",
    "result=crs.execute(s).fetchall()\n",
    "result"
   ]
  },
  {
   "cell_type": "code",
   "execution_count": 93,
   "metadata": {},
   "outputs": [
    {
     "data": {
      "text/plain": [
       "[('ВГУ', 8),\n",
       " ('ВГМА', 5),\n",
       " ('УЛГУ', 3),\n",
       " ('ФГБОУ \"Политех\"', 3),\n",
       " ('КФУ', 2),\n",
       " ('РГУ', 2),\n",
       " ('МГУ', 2),\n",
       " ('ТГУ', 2),\n",
       " ('МГТУ им. Баумана', 1),\n",
       " ('НГУ', 1)]"
      ]
     },
     "execution_count": 93,
     "metadata": {},
     "output_type": "execute_result"
    }
   ],
   "source": [
    "'''18. Для каждого университета напишите запрос, выводящий количество работающих в нем \n",
    "преподавателей, с последующей сортировкой списка по этому количеству.'''\n",
    "\n",
    "s = \"\"\"\n",
    "SELECT university.univ_name, count(lecturer.univ_id)\n",
    "FROM lecturer join university\n",
    "ON (lecturer.univ_id = university.univ_id)\n",
    "\n",
    "GROUP BY lecturer.univ_id\n",
    "ORDER BY count(lecturer.univ_id) DESC\n",
    "\"\"\"\n",
    "result=crs.execute(s).fetchall()\n",
    "result"
   ]
  },
  {
   "cell_type": "code",
   "execution_count": 105,
   "metadata": {},
   "outputs": [
    {
     "data": {
      "text/plain": [
       "[('ВГУ', 36000),\n",
       " ('ФинУ', 17300),\n",
       " ('МГУ', 14800),\n",
       " ('ФГБОУ \"Политех\"', 11250),\n",
       " ('БГУ', 12150),\n",
       " ('РГУ', 7350),\n",
       " ('КФУ', 6300),\n",
       " ('ВГМА', 5100),\n",
       " ('УЛГУ', 4000),\n",
       " ('МГТУ им. Баумана', 3250),\n",
       " ('НГУ', 1600),\n",
       " ('ТГУ', 700)]"
      ]
     },
     "execution_count": 105,
     "metadata": {},
     "output_type": "execute_result"
    }
   ],
   "source": [
    "'''19. Для каждого университета напишите запрос, \n",
    "выводящий сумму стипендии, выплачиваемой студентам каждого курса.'''\n",
    "\n",
    "s = \"\"\"\n",
    "SELECT university.univ_name, sum(student.stipend) * count(student.student_id)\n",
    "FROM student join university\n",
    "ON (student.univ_id = university.univ_id)\n",
    "GROUP BY student.univ_id\n",
    "ORDER BY count(student.stipend) DESC\n",
    "\"\"\"\n",
    "result=crs.execute(s).fetchall()\n",
    "result"
   ]
  },
  {
   "cell_type": "code",
   "execution_count": 109,
   "metadata": {},
   "outputs": [
    {
     "data": {
      "text/plain": [
       "[('Москва', 'МГУ', 606),\n",
       " ('Воронеж', 'ВГМА', 327),\n",
       " ('Ульяновск', 'УЛГУ', 231),\n",
       " ('Томск', 'ТГУ', 368),\n",
       " ('Санкт-Петербург', 'ФГБОУ \"Политех\"', 300),\n",
       " ('Ростов', 'РГУ', 416),\n",
       " ('Новосибирск', 'НГУ', 345),\n",
       " ('Казань', 'КФУ', 330),\n",
       " ('Белгород', 'БГУ', 326)]"
      ]
     },
     "execution_count": 109,
     "metadata": {},
     "output_type": "execute_result"
    }
   ],
   "source": [
    "'''20. Для каждого города напишите запрос, выводящий максимальный рейтинг университетов, \n",
    "в нем расположенных, с последующей сортировкой списка по значениям рейтингов.'''\n",
    "\n",
    "s = \"\"\"\n",
    "SELECT university.city, university.univ_name, max(university.rating)\n",
    "FROM university\n",
    "GROUP BY university.city\n",
    "ORDER BY count(university.rating) DESC\n",
    "\"\"\"\n",
    "result=crs.execute(s).fetchall()\n",
    "result"
   ]
  },
  {
   "cell_type": "code",
   "execution_count": 110,
   "metadata": {},
   "outputs": [
    {
     "data": {
      "text/plain": [
       "[('2000-01-18 00:00:00.000000', 4.0),\n",
       " ('2000-01-23 00:00:00.000000', 4.5),\n",
       " ('2006-05-12 00:00:00.000000', 2.0),\n",
       " ('2006-06-17 00:00:00.000000', 5.0),\n",
       " ('2019-05-26 00:00:00.000000', 2.0),\n",
       " ('2019-05-29 00:00:00.000000', 3.0),\n",
       " ('2019-09-02 00:00:00.000000', 5.0),\n",
       " ('2019-12-25 00:00:00.000000', 1.0),\n",
       " ('2019-12-31 00:00:00.000000', 3.0),\n",
       " ('2020-02-10 00:00:00.000000', 2.0),\n",
       " ('2020-02-21 00:00:00.000000', 3.0),\n",
       " ('2020-02-22 00:00:00.000000', 5.0),\n",
       " ('2020-05-26 00:00:00.000000', 2.5714285714285716),\n",
       " ('2020-05-27 00:00:00.000000', 2.0),\n",
       " ('2020-08-18 00:00:00.000000', 1.0),\n",
       " ('2020-09-21 00:00:00.000000', 5.0),\n",
       " ('2020-10-24 00:00:00.000000', 1.0),\n",
       " ('2020-12-03 00:00:00.000000', 5.0),\n",
       " ('2021-06-02 00:00:00.000000', 2.4)]"
      ]
     },
     "execution_count": 110,
     "metadata": {},
     "output_type": "execute_result"
    }
   ],
   "source": [
    "'''21. Для каждого дня сдачи экзаменов напишите запрос,\n",
    "выводящий среднее значение всех экзаменационных оценок.'''\n",
    "\n",
    "s = \"\"\"\n",
    "SELECT exam_date, AVG(mark)\n",
    "FROM exam_marks\n",
    "GROUP BY exam_date\n",
    "\"\"\"\n",
    "result=crs.execute(s).fetchall()\n",
    "result"
   ]
  },
  {
   "cell_type": "code",
   "execution_count": 111,
   "metadata": {},
   "outputs": [
    {
     "data": {
      "text/plain": [
       "[('2000-01-18 00:00:00.000000', 1),\n",
       " ('2000-01-23 00:00:00.000000', 2),\n",
       " ('2006-06-17 00:00:00.000000', 1),\n",
       " ('2019-05-29 00:00:00.000000', 4),\n",
       " ('2019-09-02 00:00:00.000000', 1),\n",
       " ('2019-12-31 00:00:00.000000', 1),\n",
       " ('2020-02-21 00:00:00.000000', 2),\n",
       " ('2020-02-22 00:00:00.000000', 1),\n",
       " ('2020-05-26 00:00:00.000000', 4),\n",
       " ('2020-09-21 00:00:00.000000', 1),\n",
       " ('2020-12-03 00:00:00.000000', 1),\n",
       " ('2021-06-02 00:00:00.000000', 2)]"
      ]
     },
     "execution_count": 111,
     "metadata": {},
     "output_type": "execute_result"
    }
   ],
   "source": [
    "'''22. Для каждого дня сдачи экзаменов напишите запрос, \n",
    "выводящий общее количество студентов, сдававших экзамены.'''\n",
    "\n",
    "s = \"\"\"\n",
    "SELECT exam_date, count(student_id)\n",
    "FROM exam_marks\n",
    "WHERE mark >= 3\n",
    "GROUP BY exam_date\n",
    "\"\"\"\n",
    "result=crs.execute(s).fetchall()\n",
    "result"
   ]
  },
  {
   "cell_type": "code",
   "execution_count": 116,
   "metadata": {},
   "outputs": [
    {
     "data": {
      "text/plain": [
       "[(10, 5.0),\n",
       " (12, 5.0),\n",
       " (15, 5.0),\n",
       " (55, 5.0),\n",
       " (82, 5.0),\n",
       " (88, 5.0),\n",
       " (91, 5.0),\n",
       " (92, 5.0),\n",
       " (99, 5.0),\n",
       " (128, 5.0)]"
      ]
     },
     "execution_count": 116,
     "metadata": {},
     "output_type": "execute_result"
    }
   ],
   "source": [
    "'''25. Напишите запрос, выполняющий вывод списка студентов, имеющих только отличные оценки. \n",
    "Результат отстортируйте по идентификатору студента'''\n",
    "\n",
    "s = \"\"\"\n",
    "SELECT student_id, AVG(mark)\n",
    "FROM exam_marks\n",
    "WHERE mark = 5\n",
    "GROUP BY student_id\n",
    "\"\"\"\n",
    "result=crs.execute(s).fetchall()\n",
    "result"
   ]
  },
  {
   "cell_type": "code",
   "execution_count": 120,
   "metadata": {},
   "outputs": [
    {
     "data": {
      "text/plain": [
       "[('Мамонтова', 'Акулина', 1),\n",
       " ('Кудрявцева', 'Анна', 1),\n",
       " ('Колесников', 'Борис', 1),\n",
       " ('Алексеев', 'Елисей', 1),\n",
       " ('Никонов', 'Иван', 1),\n",
       " ('Максимова', 'Иванна', 2),\n",
       " ('Куликова', 'Ираида', 2),\n",
       " ('Тихонов', 'Ладомир', 1),\n",
       " ('Сафонова', 'Лукия', 1),\n",
       " ('Беляков', 'Мефодий', 1),\n",
       " ('Волков', 'Михаил', 2),\n",
       " ('Струков', 'Николай', 2),\n",
       " ('Брагина', 'Нинель', 1),\n",
       " ('Лагутин', 'Павел', 1),\n",
       " ('Дорофеев', 'Прокофий', 1),\n",
       " ('Зимин', 'Юлиан', 3),\n",
       " ('Зайцева', 'Юлия', 2)]"
      ]
     },
     "execution_count": 120,
     "metadata": {},
     "output_type": "execute_result"
    }
   ],
   "source": [
    "'''24. Для каждого преподавателя напишите запрос,\n",
    "выводящий количество преподаваемых им предметов.'''\n",
    "\n",
    "s = \"\"\"\n",
    "SELECT lecturer.surname, lecturer.name, count(subj_lect.subj_id)\n",
    "FROM lecturer join subj_lect\n",
    "ON (lecturer.lecturer_id = subj_lect.lecturer_id)\n",
    "GROUP BY lecturer.name\n",
    "\"\"\"\n",
    "result=crs.execute(s).fetchall()\n",
    "result"
   ]
  }
 ],
 "metadata": {
  "kernelspec": {
   "display_name": "Python 3 (ipykernel)",
   "language": "python",
   "name": "python3"
  },
  "language_info": {
   "codemirror_mode": {
    "name": "ipython",
    "version": 3
   },
   "file_extension": ".py",
   "mimetype": "text/x-python",
   "name": "python",
   "nbconvert_exporter": "python",
   "pygments_lexer": "ipython3",
   "version": "3.9.7"
  }
 },
 "nbformat": 4,
 "nbformat_minor": 4
}
