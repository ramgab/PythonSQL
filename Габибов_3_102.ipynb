{
  "cells": [
    {
      "cell_type": "markdown",
      "source": [
        "мой датасет - https://www.kaggle.com/datasets/uciml/glass\n",
        "\n",
        "RI: refractive index\n",
        "Na: Sodium\n",
        "Mg: Magnesium\n",
        "Al: Aluminum\n",
        "Si: Silicon\n",
        "K: Potassium\n",
        "Ca: Calcium\n",
        "Ba: Barium\n",
        "Fe: Iron"
      ],
      "metadata": {
        "id": "RMWWZRZUgfGN"
      }
    },
    {
      "cell_type": "code",
      "execution_count": 220,
      "metadata": {
        "id": "roPUNdyJZKsR"
      },
      "outputs": [],
      "source": [
        "import pandas as pd\n",
        "import numpy as np\n",
        "import seaborn as sns\n",
        "import matplotlib.pyplot as plt\n",
        "from sklearn.model_selection import cross_validate\n",
        "from sklearn.model_selection import train_test_split, cross_val_score\n",
        "from sklearn.metrics import accuracy_score\n",
        "from sklearn.svm import SVC\n",
        "from sklearn.linear_model import LogisticRegression\n",
        "from sklearn.discriminant_analysis import LinearDiscriminantAnalysis\n",
        "from sklearn.neighbors import KNeighborsClassifier\n",
        "from sklearn.tree import DecisionTreeClassifier\n",
        "from sklearn.ensemble import RandomForestClassifier\n",
        "from sklearn.metrics import accuracy_score\n",
        "from sklearn.model_selection import train_test_split\n",
        "from sklearn import preprocessing\n",
        "import random\n",
        "from sklearn.preprocessing import LabelEncoder, MinMaxScaler\n",
        "from sklearn import metrics"
      ]
    },
    {
      "cell_type": "markdown",
      "source": [
        "### Регрессия - метод опорных векторов, линейная регрессия\n",
        "### Классивфикация - метод ближайших соседей, простая классификация (лаб 10 у Влада, самый конец) https://github.com/VVoroshilov/ML_course/blob/main/seminar_10/Homework/seminar_10.ipynb"
      ],
      "metadata": {
        "id": "FnfZubhtm1tK"
      }
    },
    {
      "cell_type": "code",
      "execution_count": 221,
      "metadata": {
        "colab": {
          "base_uri": "https://localhost:8080/",
          "height": 424
        },
        "id": "jIrSv9T-ZTKu",
        "outputId": "507151d2-b8c6-4491-ec1e-0f5ae38dc04a"
      },
      "outputs": [
        {
          "output_type": "execute_result",
          "data": {
            "text/plain": [
              "          RI     Na    Mg    Al     Si     K    Ca    Ba   Fe  Type\n",
              "0    1.52101  13.64  4.49  1.10  71.78  0.06  8.75  0.00  0.0     1\n",
              "1    1.51761  13.89  3.60  1.36  72.73  0.48  7.83  0.00  0.0     1\n",
              "2    1.51618  13.53  3.55  1.54  72.99  0.39  7.78  0.00  0.0     1\n",
              "3    1.51766  13.21  3.69  1.29  72.61  0.57  8.22  0.00  0.0     1\n",
              "4    1.51742  13.27  3.62  1.24  73.08  0.55  8.07  0.00  0.0     1\n",
              "..       ...    ...   ...   ...    ...   ...   ...   ...  ...   ...\n",
              "209  1.51623  14.14  0.00  2.88  72.61  0.08  9.18  1.06  0.0     7\n",
              "210  1.51685  14.92  0.00  1.99  73.06  0.00  8.40  1.59  0.0     7\n",
              "211  1.52065  14.36  0.00  2.02  73.42  0.00  8.44  1.64  0.0     7\n",
              "212  1.51651  14.38  0.00  1.94  73.61  0.00  8.48  1.57  0.0     7\n",
              "213  1.51711  14.23  0.00  2.08  73.36  0.00  8.62  1.67  0.0     7\n",
              "\n",
              "[214 rows x 10 columns]"
            ],
            "text/html": [
              "\n",
              "  <div id=\"df-3cbdbb99-1264-47d4-b536-29087df78ff9\">\n",
              "    <div class=\"colab-df-container\">\n",
              "      <div>\n",
              "<style scoped>\n",
              "    .dataframe tbody tr th:only-of-type {\n",
              "        vertical-align: middle;\n",
              "    }\n",
              "\n",
              "    .dataframe tbody tr th {\n",
              "        vertical-align: top;\n",
              "    }\n",
              "\n",
              "    .dataframe thead th {\n",
              "        text-align: right;\n",
              "    }\n",
              "</style>\n",
              "<table border=\"1\" class=\"dataframe\">\n",
              "  <thead>\n",
              "    <tr style=\"text-align: right;\">\n",
              "      <th></th>\n",
              "      <th>RI</th>\n",
              "      <th>Na</th>\n",
              "      <th>Mg</th>\n",
              "      <th>Al</th>\n",
              "      <th>Si</th>\n",
              "      <th>K</th>\n",
              "      <th>Ca</th>\n",
              "      <th>Ba</th>\n",
              "      <th>Fe</th>\n",
              "      <th>Type</th>\n",
              "    </tr>\n",
              "  </thead>\n",
              "  <tbody>\n",
              "    <tr>\n",
              "      <th>0</th>\n",
              "      <td>1.52101</td>\n",
              "      <td>13.64</td>\n",
              "      <td>4.49</td>\n",
              "      <td>1.10</td>\n",
              "      <td>71.78</td>\n",
              "      <td>0.06</td>\n",
              "      <td>8.75</td>\n",
              "      <td>0.00</td>\n",
              "      <td>0.0</td>\n",
              "      <td>1</td>\n",
              "    </tr>\n",
              "    <tr>\n",
              "      <th>1</th>\n",
              "      <td>1.51761</td>\n",
              "      <td>13.89</td>\n",
              "      <td>3.60</td>\n",
              "      <td>1.36</td>\n",
              "      <td>72.73</td>\n",
              "      <td>0.48</td>\n",
              "      <td>7.83</td>\n",
              "      <td>0.00</td>\n",
              "      <td>0.0</td>\n",
              "      <td>1</td>\n",
              "    </tr>\n",
              "    <tr>\n",
              "      <th>2</th>\n",
              "      <td>1.51618</td>\n",
              "      <td>13.53</td>\n",
              "      <td>3.55</td>\n",
              "      <td>1.54</td>\n",
              "      <td>72.99</td>\n",
              "      <td>0.39</td>\n",
              "      <td>7.78</td>\n",
              "      <td>0.00</td>\n",
              "      <td>0.0</td>\n",
              "      <td>1</td>\n",
              "    </tr>\n",
              "    <tr>\n",
              "      <th>3</th>\n",
              "      <td>1.51766</td>\n",
              "      <td>13.21</td>\n",
              "      <td>3.69</td>\n",
              "      <td>1.29</td>\n",
              "      <td>72.61</td>\n",
              "      <td>0.57</td>\n",
              "      <td>8.22</td>\n",
              "      <td>0.00</td>\n",
              "      <td>0.0</td>\n",
              "      <td>1</td>\n",
              "    </tr>\n",
              "    <tr>\n",
              "      <th>4</th>\n",
              "      <td>1.51742</td>\n",
              "      <td>13.27</td>\n",
              "      <td>3.62</td>\n",
              "      <td>1.24</td>\n",
              "      <td>73.08</td>\n",
              "      <td>0.55</td>\n",
              "      <td>8.07</td>\n",
              "      <td>0.00</td>\n",
              "      <td>0.0</td>\n",
              "      <td>1</td>\n",
              "    </tr>\n",
              "    <tr>\n",
              "      <th>...</th>\n",
              "      <td>...</td>\n",
              "      <td>...</td>\n",
              "      <td>...</td>\n",
              "      <td>...</td>\n",
              "      <td>...</td>\n",
              "      <td>...</td>\n",
              "      <td>...</td>\n",
              "      <td>...</td>\n",
              "      <td>...</td>\n",
              "      <td>...</td>\n",
              "    </tr>\n",
              "    <tr>\n",
              "      <th>209</th>\n",
              "      <td>1.51623</td>\n",
              "      <td>14.14</td>\n",
              "      <td>0.00</td>\n",
              "      <td>2.88</td>\n",
              "      <td>72.61</td>\n",
              "      <td>0.08</td>\n",
              "      <td>9.18</td>\n",
              "      <td>1.06</td>\n",
              "      <td>0.0</td>\n",
              "      <td>7</td>\n",
              "    </tr>\n",
              "    <tr>\n",
              "      <th>210</th>\n",
              "      <td>1.51685</td>\n",
              "      <td>14.92</td>\n",
              "      <td>0.00</td>\n",
              "      <td>1.99</td>\n",
              "      <td>73.06</td>\n",
              "      <td>0.00</td>\n",
              "      <td>8.40</td>\n",
              "      <td>1.59</td>\n",
              "      <td>0.0</td>\n",
              "      <td>7</td>\n",
              "    </tr>\n",
              "    <tr>\n",
              "      <th>211</th>\n",
              "      <td>1.52065</td>\n",
              "      <td>14.36</td>\n",
              "      <td>0.00</td>\n",
              "      <td>2.02</td>\n",
              "      <td>73.42</td>\n",
              "      <td>0.00</td>\n",
              "      <td>8.44</td>\n",
              "      <td>1.64</td>\n",
              "      <td>0.0</td>\n",
              "      <td>7</td>\n",
              "    </tr>\n",
              "    <tr>\n",
              "      <th>212</th>\n",
              "      <td>1.51651</td>\n",
              "      <td>14.38</td>\n",
              "      <td>0.00</td>\n",
              "      <td>1.94</td>\n",
              "      <td>73.61</td>\n",
              "      <td>0.00</td>\n",
              "      <td>8.48</td>\n",
              "      <td>1.57</td>\n",
              "      <td>0.0</td>\n",
              "      <td>7</td>\n",
              "    </tr>\n",
              "    <tr>\n",
              "      <th>213</th>\n",
              "      <td>1.51711</td>\n",
              "      <td>14.23</td>\n",
              "      <td>0.00</td>\n",
              "      <td>2.08</td>\n",
              "      <td>73.36</td>\n",
              "      <td>0.00</td>\n",
              "      <td>8.62</td>\n",
              "      <td>1.67</td>\n",
              "      <td>0.0</td>\n",
              "      <td>7</td>\n",
              "    </tr>\n",
              "  </tbody>\n",
              "</table>\n",
              "<p>214 rows × 10 columns</p>\n",
              "</div>\n",
              "      <button class=\"colab-df-convert\" onclick=\"convertToInteractive('df-3cbdbb99-1264-47d4-b536-29087df78ff9')\"\n",
              "              title=\"Convert this dataframe to an interactive table.\"\n",
              "              style=\"display:none;\">\n",
              "        \n",
              "  <svg xmlns=\"http://www.w3.org/2000/svg\" height=\"24px\"viewBox=\"0 0 24 24\"\n",
              "       width=\"24px\">\n",
              "    <path d=\"M0 0h24v24H0V0z\" fill=\"none\"/>\n",
              "    <path d=\"M18.56 5.44l.94 2.06.94-2.06 2.06-.94-2.06-.94-.94-2.06-.94 2.06-2.06.94zm-11 1L8.5 8.5l.94-2.06 2.06-.94-2.06-.94L8.5 2.5l-.94 2.06-2.06.94zm10 10l.94 2.06.94-2.06 2.06-.94-2.06-.94-.94-2.06-.94 2.06-2.06.94z\"/><path d=\"M17.41 7.96l-1.37-1.37c-.4-.4-.92-.59-1.43-.59-.52 0-1.04.2-1.43.59L10.3 9.45l-7.72 7.72c-.78.78-.78 2.05 0 2.83L4 21.41c.39.39.9.59 1.41.59.51 0 1.02-.2 1.41-.59l7.78-7.78 2.81-2.81c.8-.78.8-2.07 0-2.86zM5.41 20L4 18.59l7.72-7.72 1.47 1.35L5.41 20z\"/>\n",
              "  </svg>\n",
              "      </button>\n",
              "      \n",
              "  <style>\n",
              "    .colab-df-container {\n",
              "      display:flex;\n",
              "      flex-wrap:wrap;\n",
              "      gap: 12px;\n",
              "    }\n",
              "\n",
              "    .colab-df-convert {\n",
              "      background-color: #E8F0FE;\n",
              "      border: none;\n",
              "      border-radius: 50%;\n",
              "      cursor: pointer;\n",
              "      display: none;\n",
              "      fill: #1967D2;\n",
              "      height: 32px;\n",
              "      padding: 0 0 0 0;\n",
              "      width: 32px;\n",
              "    }\n",
              "\n",
              "    .colab-df-convert:hover {\n",
              "      background-color: #E2EBFA;\n",
              "      box-shadow: 0px 1px 2px rgba(60, 64, 67, 0.3), 0px 1px 3px 1px rgba(60, 64, 67, 0.15);\n",
              "      fill: #174EA6;\n",
              "    }\n",
              "\n",
              "    [theme=dark] .colab-df-convert {\n",
              "      background-color: #3B4455;\n",
              "      fill: #D2E3FC;\n",
              "    }\n",
              "\n",
              "    [theme=dark] .colab-df-convert:hover {\n",
              "      background-color: #434B5C;\n",
              "      box-shadow: 0px 1px 3px 1px rgba(0, 0, 0, 0.15);\n",
              "      filter: drop-shadow(0px 1px 2px rgba(0, 0, 0, 0.3));\n",
              "      fill: #FFFFFF;\n",
              "    }\n",
              "  </style>\n",
              "\n",
              "      <script>\n",
              "        const buttonEl =\n",
              "          document.querySelector('#df-3cbdbb99-1264-47d4-b536-29087df78ff9 button.colab-df-convert');\n",
              "        buttonEl.style.display =\n",
              "          google.colab.kernel.accessAllowed ? 'block' : 'none';\n",
              "\n",
              "        async function convertToInteractive(key) {\n",
              "          const element = document.querySelector('#df-3cbdbb99-1264-47d4-b536-29087df78ff9');\n",
              "          const dataTable =\n",
              "            await google.colab.kernel.invokeFunction('convertToInteractive',\n",
              "                                                     [key], {});\n",
              "          if (!dataTable) return;\n",
              "\n",
              "          const docLinkHtml = 'Like what you see? Visit the ' +\n",
              "            '<a target=\"_blank\" href=https://colab.research.google.com/notebooks/data_table.ipynb>data table notebook</a>'\n",
              "            + ' to learn more about interactive tables.';\n",
              "          element.innerHTML = '';\n",
              "          dataTable['output_type'] = 'display_data';\n",
              "          await google.colab.output.renderOutput(dataTable, element);\n",
              "          const docLink = document.createElement('div');\n",
              "          docLink.innerHTML = docLinkHtml;\n",
              "          element.appendChild(docLink);\n",
              "        }\n",
              "      </script>\n",
              "    </div>\n",
              "  </div>\n",
              "  "
            ]
          },
          "metadata": {},
          "execution_count": 221
        }
      ],
      "source": [
        "#1. Загрузить датасет в Python.\n",
        "# Загружаем датасет\n",
        "data = pd.read_csv('glass.csv')\n",
        "data"
      ]
    },
    {
      "cell_type": "markdown",
      "metadata": {
        "id": "d3GcHaFPdjBu"
      },
      "source": [
        "### Датасет состоит из 10 столбцов\n",
        "### Все атрибуты с численными типами данных"
      ]
    },
    {
      "cell_type": "code",
      "execution_count": 222,
      "metadata": {
        "colab": {
          "base_uri": "https://localhost:8080/"
        },
        "id": "hq61_zTrZXaC",
        "outputId": "c4165374-1bc3-46cc-f7b8-9f8abc64d0d3"
      },
      "outputs": [
        {
          "output_type": "stream",
          "name": "stdout",
          "text": [
            "<class 'pandas.core.frame.DataFrame'>\n",
            "RangeIndex: 214 entries, 0 to 213\n",
            "Data columns (total 10 columns):\n",
            " #   Column  Non-Null Count  Dtype  \n",
            "---  ------  --------------  -----  \n",
            " 0   RI      214 non-null    float64\n",
            " 1   Na      214 non-null    float64\n",
            " 2   Mg      214 non-null    float64\n",
            " 3   Al      214 non-null    float64\n",
            " 4   Si      214 non-null    float64\n",
            " 5   K       214 non-null    float64\n",
            " 6   Ca      214 non-null    float64\n",
            " 7   Ba      214 non-null    float64\n",
            " 8   Fe      214 non-null    float64\n",
            " 9   Type    214 non-null    int64  \n",
            "dtypes: float64(9), int64(1)\n",
            "memory usage: 16.8 KB\n",
            "None\n"
          ]
        }
      ],
      "source": [
        "#2. Описать набор данных и решаемую задачу.\n",
        "# Описание датасета\n",
        "print(data.info())"
      ]
    },
    {
      "cell_type": "markdown",
      "source": [
        "**Здесь мы видим, что все значения числовые, поэтому нам НЕ придется самим заменять значения на числовые (с помощью дамми-переменной, map, LabelEncoder и т.д.)**"
      ],
      "metadata": {
        "id": "ii0TD5iXYYua"
      }
    },
    {
      "cell_type": "code",
      "execution_count": 223,
      "metadata": {
        "colab": {
          "base_uri": "https://localhost:8080/"
        },
        "id": "PgZrEu6LZfnv",
        "outputId": "e603f4fd-a86c-4172-87bb-2d168b85e17e"
      },
      "outputs": [
        {
          "output_type": "stream",
          "name": "stdout",
          "text": [
            "               RI          Na          Mg          Al          Si           K  \\\n",
            "count  214.000000  214.000000  214.000000  214.000000  214.000000  214.000000   \n",
            "mean     1.518365   13.407850    2.684533    1.444907   72.650935    0.497056   \n",
            "std      0.003037    0.816604    1.442408    0.499270    0.774546    0.652192   \n",
            "min      1.511150   10.730000    0.000000    0.290000   69.810000    0.000000   \n",
            "25%      1.516522   12.907500    2.115000    1.190000   72.280000    0.122500   \n",
            "50%      1.517680   13.300000    3.480000    1.360000   72.790000    0.555000   \n",
            "75%      1.519157   13.825000    3.600000    1.630000   73.087500    0.610000   \n",
            "max      1.533930   17.380000    4.490000    3.500000   75.410000    6.210000   \n",
            "\n",
            "               Ca          Ba          Fe        Type  \n",
            "count  214.000000  214.000000  214.000000  214.000000  \n",
            "mean     8.956963    0.175047    0.057009    2.780374  \n",
            "std      1.423153    0.497219    0.097439    2.103739  \n",
            "min      5.430000    0.000000    0.000000    1.000000  \n",
            "25%      8.240000    0.000000    0.000000    1.000000  \n",
            "50%      8.600000    0.000000    0.000000    2.000000  \n",
            "75%      9.172500    0.000000    0.100000    3.000000  \n",
            "max     16.190000    3.150000    0.510000    7.000000  \n"
          ]
        }
      ],
      "source": [
        "print(data.describe())"
      ]
    },
    {
      "cell_type": "code",
      "execution_count": 224,
      "metadata": {
        "colab": {
          "base_uri": "https://localhost:8080/"
        },
        "id": "nBUNdUUSZmTu",
        "outputId": "27bdcd82-bbdf-4486-b6c9-1fcd764e48cc",
        "scrolled": true
      },
      "outputs": [
        {
          "output_type": "stream",
          "name": "stdout",
          "text": [
            "Column Name: RI\n",
            "1.52152    3\n",
            "1.51590    3\n",
            "1.51645    3\n",
            "1.51754    2\n",
            "1.51841    2\n",
            "          ..\n",
            "1.51625    1\n",
            "1.51569    1\n",
            "1.51605    1\n",
            "1.51588    1\n",
            "1.51651    1\n",
            "Name: RI, Length: 178, dtype: int64\n",
            "-----------------\n",
            "Column Name: Na\n",
            "13.02    5\n",
            "13.21    5\n",
            "13.00    5\n",
            "13.64    4\n",
            "13.33    4\n",
            "        ..\n",
            "13.34    1\n",
            "13.31    1\n",
            "14.17    1\n",
            "13.51    1\n",
            "14.23    1\n",
            "Name: Na, Length: 142, dtype: int64\n",
            "-----------------\n",
            "Column Name: Mg\n",
            "0.00    42\n",
            "3.48     8\n",
            "3.58     8\n",
            "3.54     8\n",
            "3.52     7\n",
            "        ..\n",
            "2.76     1\n",
            "3.15     1\n",
            "2.90     1\n",
            "3.83     1\n",
            "1.78     1\n",
            "Name: Mg, Length: 94, dtype: int64\n",
            "-----------------\n",
            "Column Name: Al\n",
            "1.54    8\n",
            "1.19    6\n",
            "1.43    5\n",
            "1.29    5\n",
            "1.23    5\n",
            "       ..\n",
            "1.08    1\n",
            "1.64    1\n",
            "1.61    1\n",
            "1.07    1\n",
            "1.94    1\n",
            "Name: Al, Length: 118, dtype: int64\n",
            "-----------------\n",
            "Column Name: Si\n",
            "72.86    4\n",
            "72.99    4\n",
            "73.10    4\n",
            "73.28    4\n",
            "73.11    4\n",
            "        ..\n",
            "73.55    1\n",
            "72.34    1\n",
            "72.26    1\n",
            "73.26    1\n",
            "73.61    1\n",
            "Name: Si, Length: 133, dtype: int64\n",
            "-----------------\n",
            "Column Name: K\n",
            "0.00    30\n",
            "0.57    12\n",
            "0.56    11\n",
            "0.60    11\n",
            "0.58    10\n",
            "        ..\n",
            "0.44     1\n",
            "0.07     1\n",
            "0.73     1\n",
            "0.70     1\n",
            "1.41     1\n",
            "Name: K, Length: 65, dtype: int64\n",
            "-----------------\n",
            "Column Name: Ca\n",
            "8.03    5\n",
            "8.43    5\n",
            "9.57    4\n",
            "8.79    4\n",
            "8.44    4\n",
            "       ..\n",
            "9.23    1\n",
            "8.90    1\n",
            "9.13    1\n",
            "8.09    1\n",
            "8.62    1\n",
            "Name: Ca, Length: 143, dtype: int64\n",
            "-----------------\n",
            "Column Name: Ba\n",
            "0.00    176\n",
            "0.64      2\n",
            "1.57      2\n",
            "0.09      2\n",
            "1.59      2\n",
            "0.11      2\n",
            "3.15      1\n",
            "0.81      1\n",
            "1.64      1\n",
            "1.06      1\n",
            "0.54      1\n",
            "2.88      1\n",
            "1.38      1\n",
            "1.55      1\n",
            "0.67      1\n",
            "1.71      1\n",
            "0.56      1\n",
            "0.63      1\n",
            "0.53      1\n",
            "0.66      1\n",
            "0.61      1\n",
            "0.27      1\n",
            "0.69      1\n",
            "0.40      1\n",
            "0.14      1\n",
            "0.76      1\n",
            "1.68      1\n",
            "1.63      1\n",
            "1.19      1\n",
            "0.24      1\n",
            "2.20      1\n",
            "0.15      1\n",
            "0.06      1\n",
            "1.67      1\n",
            "Name: Ba, dtype: int64\n",
            "-----------------\n",
            "Column Name: Fe\n",
            "0.00    144\n",
            "0.24      7\n",
            "0.17      7\n",
            "0.09      6\n",
            "0.10      5\n",
            "0.11      4\n",
            "0.16      3\n",
            "0.28      3\n",
            "0.12      3\n",
            "0.22      3\n",
            "0.14      3\n",
            "0.07      3\n",
            "0.19      2\n",
            "0.15      2\n",
            "0.08      2\n",
            "0.06      1\n",
            "0.21      1\n",
            "0.05      1\n",
            "0.51      1\n",
            "0.37      1\n",
            "0.35      1\n",
            "0.25      1\n",
            "0.18      1\n",
            "0.34      1\n",
            "0.29      1\n",
            "0.30      1\n",
            "0.20      1\n",
            "0.32      1\n",
            "0.26      1\n",
            "0.03      1\n",
            "0.31      1\n",
            "0.01      1\n",
            "Name: Fe, dtype: int64\n",
            "-----------------\n",
            "Column Name: Type\n",
            "2    76\n",
            "1    70\n",
            "7    29\n",
            "3    17\n",
            "5    13\n",
            "6     9\n",
            "Name: Type, dtype: int64\n",
            "-----------------\n"
          ]
        }
      ],
      "source": [
        "# Смотрим, какие значения имеются в столбцах\n",
        "for col_name in data.columns:\n",
        "    print(f\"Column Name: {col_name}\")\n",
        "    print(data[col_name].value_counts())\n",
        "    print(\"-----------------\")"
      ]
    },
    {
      "cell_type": "code",
      "execution_count": 225,
      "metadata": {
        "colab": {
          "base_uri": "https://localhost:8080/"
        },
        "id": "lm0jlUdFaylY",
        "outputId": "656e7057-01b6-4588-fb33-5553d7221e06"
      },
      "outputs": [
        {
          "output_type": "stream",
          "name": "stdout",
          "text": [
            "Column Name: RI\n",
            "178\n",
            "-----------------\n",
            "Column Name: Na\n",
            "142\n",
            "-----------------\n",
            "Column Name: Mg\n",
            "94\n",
            "-----------------\n",
            "Column Name: Al\n",
            "118\n",
            "-----------------\n",
            "Column Name: Si\n",
            "133\n",
            "-----------------\n",
            "Column Name: K\n",
            "65\n",
            "-----------------\n",
            "Column Name: Ca\n",
            "143\n",
            "-----------------\n",
            "Column Name: Ba\n",
            "34\n",
            "-----------------\n",
            "Column Name: Fe\n",
            "32\n",
            "-----------------\n",
            "Column Name: Type\n",
            "6\n",
            "-----------------\n"
          ]
        }
      ],
      "source": [
        "# Количество уникальных значений в столбцах\n",
        "for col_name in data.columns:\n",
        "    print(f\"Column Name: {col_name}\")\n",
        "    print(data[col_name].nunique())\n",
        "    print(\"-----------------\")"
      ]
    },
    {
      "cell_type": "code",
      "execution_count": 226,
      "metadata": {
        "colab": {
          "base_uri": "https://localhost:8080/"
        },
        "id": "wb6P05letDGl",
        "outputId": "24eea47f-b4e5-4a27-ca3e-e7b60266a1be"
      },
      "outputs": [
        {
          "output_type": "stream",
          "name": "stdout",
          "text": [
            "Column Name: RI\n",
            "0 float64\n",
            "-----------------\n",
            "Column Name: Na\n",
            "0 float64\n",
            "-----------------\n",
            "Column Name: Mg\n",
            "0 float64\n",
            "-----------------\n",
            "Column Name: Al\n",
            "0 float64\n",
            "-----------------\n",
            "Column Name: Si\n",
            "0 float64\n",
            "-----------------\n",
            "Column Name: K\n",
            "0 float64\n",
            "-----------------\n",
            "Column Name: Ca\n",
            "0 float64\n",
            "-----------------\n",
            "Column Name: Ba\n",
            "0 float64\n",
            "-----------------\n",
            "Column Name: Fe\n",
            "0 float64\n",
            "-----------------\n",
            "Column Name: Type\n",
            "0 int64\n",
            "-----------------\n"
          ]
        }
      ],
      "source": [
        "# Провека на пустые значения\n",
        "\n",
        "for col_name in data.columns:\n",
        "    print(f\"Column Name: {col_name}\")\n",
        "    print(data[col_name].isnull().sum(), data[col_name].dtype)\n",
        "    print(\"-----------------\")"
      ]
    },
    {
      "cell_type": "code",
      "source": [
        "# Визуализация пустых значений\n",
        "sns.heatmap(data.isnull(),yticklabels=False,cbar=True,cmap='viridis') "
      ],
      "metadata": {
        "colab": {
          "base_uri": "https://localhost:8080/",
          "height": 286
        },
        "id": "l3MdnvoChT97",
        "outputId": "7c3f5b48-77b6-41db-953a-ff8c6c51fb71"
      },
      "execution_count": 227,
      "outputs": [
        {
          "output_type": "execute_result",
          "data": {
            "text/plain": [
              "<matplotlib.axes._subplots.AxesSubplot at 0x7f87fcdcc340>"
            ]
          },
          "metadata": {},
          "execution_count": 227
        },
        {
          "output_type": "display_data",
          "data": {
            "text/plain": [
              "<Figure size 432x288 with 2 Axes>"
            ],
            "image/png": "[encoded data removed]"
          },
          "metadata": {
            "needs_background": "light"
          }
        }
      ]
    },
    {
      "cell_type": "markdown",
      "source": [
        "Посмотрим распределение частоты данных в виде столбцов"
      ],
      "metadata": {
        "id": "R4hgFl2CZ3ju"
      }
    },
    {
      "cell_type": "code",
      "source": [
        "# Смотрим гистограммы до выкидывания выбросов. Распределение частоты данных в виде столбцов. Тут сможем определеить (как и на ящике с усами) аномальные значения\n",
        "for col_name in data.columns:\n",
        "    sns.histplot(data[col_name])\n",
        "    plt.show()"
      ],
      "metadata": {
        "colab": {
          "base_uri": "https://localhost:8080/",
          "height": 1000
        },
        "id": "7LmrNGm-Z85t",
        "outputId": "048b8f94-424b-422c-9e17-ee0537706fb3"
      },
      "execution_count": 228,
      "outputs": [
        {
          "output_type": "display_data",
          "data": {
            "text/plain": [
              "<Figure size 432x288 with 1 Axes>"
            ],
            "image/png": "[encoded data removed]"
          },
          "metadata": {
            "needs_background": "light"
          }
        },
        {
          "output_type": "display_data",
          "data": {
            "text/plain": [
              "<Figure size 432x288 with 1 Axes>"
            ],
            "image/png": "[encoded data removed]"
          },
          "metadata": {
            "needs_background": "light"
          }
        },
        {
          "output_type": "display_data",
          "data": {
            "text/plain": [
              "<Figure size 432x288 with 1 Axes>"
            ],
            "image/png": "[encoded data removed]"
          },
          "metadata": {
            "needs_background": "light"
          }
        },
        {
          "output_type": "display_data",
          "data": {
            "text/plain": [
              "<Figure size 432x288 with 1 Axes>"
            ],
            "image/png": "[encoded data removed]"
          },
          "metadata": {
            "needs_background": "light"
          }
        },
        {
          "output_type": "display_data",
          "data": {
            "text/plain": [
              "<Figure size 432x288 with 1 Axes>"
            ],
            "image/png": "[encoded data removed]"
          },
          "metadata": {
            "needs_background": "light"
          }
        },
        {
          "output_type": "display_data",
          "data": {
            "text/plain": [
              "<Figure size 432x288 with 1 Axes>"
            ],
            "image/png": "[encoded data removed]"
          },
          "metadata": {
            "needs_background": "light"
          }
        },
        {
          "output_type": "display_data",
          "data": {
            "text/plain": [
              "<Figure size 432x288 with 1 Axes>"
            ],
            "image/png": "[encoded data removed]"
          },
          "metadata": {
            "needs_background": "light"
          }
        },
        {
          "output_type": "display_data",
          "data": {
            "text/plain": [
              "<Figure size 432x288 with 1 Axes>"
            ],
            "image/png": "[encoded data removed]"
          },
          "metadata": {
            "needs_background": "light"
          }
        },
        {
          "output_type": "display_data",
          "data": {
            "text/plain": [
              "<Figure size 432x288 with 1 Axes>"
            ],
            "image/png": "[encoded data removed]"
          },
          "metadata": {
            "needs_background": "light"
          }
        },
        {
          "output_type": "display_data",
          "data": {
            "text/plain": [
              "<Figure size 432x288 with 1 Axes>"
            ],
            "image/png": "[encoded data removed]"
          },
          "metadata": {
            "needs_background": "light"
          }
        }
      ]
    },
    {
      "cell_type": "code",
      "source": [],
      "metadata": {
        "id": "Hjwx5jewcCx1"
      },
      "execution_count": 228,
      "outputs": []
    },
    {
      "cell_type": "code",
      "source": [
        "# Провека на пустые значения\n",
        "\n",
        "for col_name in data.columns:\n",
        "    print(f\"Column Name: {col_name}\")\n",
        "    print(data[col_name].isnull().sum(), data[col_name].dtype)\n",
        "    print(\"-----------------\")"
      ],
      "metadata": {
        "colab": {
          "base_uri": "https://localhost:8080/"
        },
        "id": "_s7tWs_IZ2AO",
        "outputId": "23ee54ce-d21e-4b4c-e5d5-b12d107340ab"
      },
      "execution_count": 229,
      "outputs": [
        {
          "output_type": "stream",
          "name": "stdout",
          "text": [
            "Column Name: RI\n",
            "0 float64\n",
            "-----------------\n",
            "Column Name: Na\n",
            "0 float64\n",
            "-----------------\n",
            "Column Name: Mg\n",
            "0 float64\n",
            "-----------------\n",
            "Column Name: Al\n",
            "0 float64\n",
            "-----------------\n",
            "Column Name: Si\n",
            "0 float64\n",
            "-----------------\n",
            "Column Name: K\n",
            "0 float64\n",
            "-----------------\n",
            "Column Name: Ca\n",
            "0 float64\n",
            "-----------------\n",
            "Column Name: Ba\n",
            "0 float64\n",
            "-----------------\n",
            "Column Name: Fe\n",
            "0 float64\n",
            "-----------------\n",
            "Column Name: Type\n",
            "0 int64\n",
            "-----------------\n"
          ]
        }
      ]
    },
    {
      "cell_type": "markdown",
      "source": [
        "**Здесь мы видим, что в нашем датасете нет пустых значений, поэтому нам НЕ придется избавляться от нанов (удалять их или столбцы с преобладающим количеством пропусков, заменять их на значение медианы и тд)**"
      ],
      "metadata": {
        "id": "03TtEhh7ZE8x"
      }
    },
    {
      "cell_type": "code",
      "execution_count": 230,
      "metadata": {
        "colab": {
          "base_uri": "https://localhost:8080/",
          "height": 630
        },
        "id": "lH66Ule3WCrs",
        "outputId": "56e75cfe-ecc8-4fc4-9261-d20979be089c"
      },
      "outputs": [
        {
          "output_type": "stream",
          "name": "stderr",
          "text": [
            "/usr/local/lib/python3.8/dist-packages/seaborn/_decorators.py:36: FutureWarning: Pass the following variable as a keyword arg: x. From version 0.12, the only valid positional argument will be `data`, and passing other arguments without an explicit keyword will result in an error or misinterpretation.\n",
            "  warnings.warn(\n"
          ]
        },
        {
          "output_type": "display_data",
          "data": {
            "text/plain": [
              "<Figure size 432x288 with 1 Axes>"
            ],
            "image/png": "[encoded data removed]"
          },
          "metadata": {
            "needs_background": "light"
          }
        },
        {
          "output_type": "stream",
          "name": "stderr",
          "text": [
            "/usr/local/lib/python3.8/dist-packages/seaborn/_decorators.py:36: FutureWarning: Pass the following variable as a keyword arg: x. From version 0.12, the only valid positional argument will be `data`, and passing other arguments without an explicit keyword will result in an error or misinterpretation.\n",
            "  warnings.warn(\n"
          ]
        },
        {
          "output_type": "display_data",
          "data": {
            "text/plain": [
              "<Figure size 432x288 with 1 Axes>"
            ],
            "image/png": "[encoded data removed]"
          },
          "metadata": {
            "needs_background": "light"
          }
        }
      ],
      "source": [
        "data_list = [\"K\",\"Ba\"] \n",
        "for col_name in data_list:\n",
        "  sns.boxplot(data[col_name])\n",
        "  plt.show()"
      ]
    },
    {
      "cell_type": "markdown",
      "metadata": {
        "id": "vKIJzhkjdjB6"
      },
      "source": [
        "### В столбце  \"K\" больше всего значений в промежутке от 0 до 2. Остальные возможные значения представлены в очень маленьком количестве, поэтому мы их удалим из выборки, т.к. они либо являются аномалией, либо сущетсвуют в недостаточно большом количестве, чтобы модель могла делать предсказания с высокой точностью с такими значениями\n"
      ]
    },
    {
      "cell_type": "code",
      "execution_count": 231,
      "metadata": {
        "id": "YxvT8APhdjB7"
      },
      "outputs": [],
      "source": [
        "data = data[(data[\"K\"] <= 2) & (data[\"K\"] > 0)]"
      ]
    },
    {
      "cell_type": "markdown",
      "metadata": {
        "id": "BWYZrYeldjB7"
      },
      "source": [
        "### В столбце  \"Ba\" больше всего значений в промежутке от 0 до 2. Остальные возможные значения представлены в очень маленьком количестве, поэтому мы их удалим из выборки, т.к. они либо являются аномалией, либо сущетсвуют в недостаточно большом количестве, чтобы модель могла делать предсказания с высокой точностью с такими значениями\n"
      ]
    },
    {
      "cell_type": "code",
      "execution_count": 232,
      "metadata": {
        "id": "ZDIo_npbdjB8"
      },
      "outputs": [],
      "source": [
        "data = data[(data[\"Ba\"] <= 2) & (data[\"Ba\"] > 0)]"
      ]
    },
    {
      "cell_type": "code",
      "execution_count": 233,
      "metadata": {
        "colab": {
          "base_uri": "https://localhost:8080/"
        },
        "id": "XWSbhNdsfy5x",
        "outputId": "8f7eb275-4279-4b14-9435-2c8e5be09577"
      },
      "outputs": [
        {
          "output_type": "stream",
          "name": "stdout",
          "text": [
            "Column Name: RI\n",
            "18 float64\n",
            "-----------------\n",
            "Column Name: Na\n",
            "16 float64\n",
            "-----------------\n",
            "Column Name: Mg\n",
            "14 float64\n",
            "-----------------\n",
            "Column Name: Al\n",
            "17 float64\n",
            "-----------------\n",
            "Column Name: Si\n",
            "18 float64\n",
            "-----------------\n",
            "Column Name: K\n",
            "16 float64\n",
            "-----------------\n",
            "Column Name: Ca\n",
            "18 float64\n",
            "-----------------\n",
            "Column Name: Ba\n",
            "17 float64\n",
            "-----------------\n",
            "Column Name: Fe\n",
            "9 float64\n",
            "-----------------\n",
            "Column Name: Type\n",
            "5 int64\n",
            "-----------------\n"
          ]
        }
      ],
      "source": [
        "# Количество уникальных значений в столбцах\n",
        "for col_name in data.columns:\n",
        "    print(f\"Column Name: {col_name}\")\n",
        "    print(data[col_name].nunique(), data[col_name].dtype)\n",
        "    print(\"-----------------\")"
      ]
    },
    {
      "cell_type": "code",
      "execution_count": 234,
      "metadata": {
        "colab": {
          "base_uri": "https://localhost:8080/",
          "height": 645
        },
        "id": "BM4DY6owuljY",
        "outputId": "6219496b-72ed-4b76-b0e3-98076e43c1da"
      },
      "outputs": [
        {
          "output_type": "execute_result",
          "data": {
            "text/plain": [
              "          RI     Na    Mg    Al     Si     K    Ca    Ba    Fe  Type\n",
              "32   1.51775  12.85  3.48  1.23  72.97  0.61  8.56  0.09  0.22     1\n",
              "36   1.51909  13.89  3.53  1.32  71.81  0.51  8.78  0.11  0.00     1\n",
              "61   1.51977  13.81  3.58  1.32  71.72  0.12  8.67  0.69  0.00     1\n",
              "99   1.51811  12.96  2.96  1.43  72.92  0.60  8.79  0.14  0.00     2\n",
              "100  1.51655  12.75  2.85  1.44  73.27  0.57  8.79  0.11  0.22     2\n",
              "128  1.52068  13.55  2.09  1.67  72.18  0.53  9.57  0.27  0.17     2\n",
              "141  1.51851  13.20  3.63  1.07  72.83  0.57  8.41  0.09  0.17     2\n",
              "142  1.51662  12.85  3.51  1.44  73.01  0.68  8.23  0.06  0.25     2\n",
              "161  1.51934  13.64  3.54  0.75  72.65  0.16  8.89  0.15  0.24     3\n",
              "174  1.52058  12.85  1.61  2.17  72.18  0.76  9.70  0.24  0.51     5\n",
              "185  1.51131  13.69  3.20  1.81  72.81  1.76  5.43  1.19  0.00     7\n",
              "186  1.51838  14.32  3.26  2.22  71.25  1.46  5.79  1.63  0.00     7\n",
              "189  1.52365  15.79  1.83  1.31  70.43  0.31  8.61  1.68  0.00     7\n",
              "192  1.51623  14.20  0.00  2.79  73.46  0.04  9.04  0.40  0.09     7\n",
              "195  1.51545  14.14  0.00  2.68  73.39  0.08  9.07  0.61  0.05     7\n",
              "196  1.51556  13.87  0.00  2.54  73.23  0.14  9.41  0.81  0.01     7\n",
              "198  1.51531  14.38  0.00  2.66  73.10  0.04  9.08  0.64  0.00     7\n",
              "199  1.51609  15.01  0.00  2.51  73.05  0.05  8.83  0.53  0.00     7\n",
              "209  1.51623  14.14  0.00  2.88  72.61  0.08  9.18  1.06  0.00     7"
            ],
            "text/html": [
              "\n",
              "  <div id=\"df-65ea02de-69c7-4320-a7d9-b1cbe2df2036\">\n",
              "    <div class=\"colab-df-container\">\n",
              "      <div>\n",
              "<style scoped>\n",
              "    .dataframe tbody tr th:only-of-type {\n",
              "        vertical-align: middle;\n",
              "    }\n",
              "\n",
              "    .dataframe tbody tr th {\n",
              "        vertical-align: top;\n",
              "    }\n",
              "\n",
              "    .dataframe thead th {\n",
              "        text-align: right;\n",
              "    }\n",
              "</style>\n",
              "<table border=\"1\" class=\"dataframe\">\n",
              "  <thead>\n",
              "    <tr style=\"text-align: right;\">\n",
              "      <th></th>\n",
              "      <th>RI</th>\n",
              "      <th>Na</th>\n",
              "      <th>Mg</th>\n",
              "      <th>Al</th>\n",
              "      <th>Si</th>\n",
              "      <th>K</th>\n",
              "      <th>Ca</th>\n",
              "      <th>Ba</th>\n",
              "      <th>Fe</th>\n",
              "      <th>Type</th>\n",
              "    </tr>\n",
              "  </thead>\n",
              "  <tbody>\n",
              "    <tr>\n",
              "      <th>32</th>\n",
              "      <td>1.51775</td>\n",
              "      <td>12.85</td>\n",
              "      <td>3.48</td>\n",
              "      <td>1.23</td>\n",
              "      <td>72.97</td>\n",
              "      <td>0.61</td>\n",
              "      <td>8.56</td>\n",
              "      <td>0.09</td>\n",
              "      <td>0.22</td>\n",
              "      <td>1</td>\n",
              "    </tr>\n",
              "    <tr>\n",
              "      <th>36</th>\n",
              "      <td>1.51909</td>\n",
              "      <td>13.89</td>\n",
              "      <td>3.53</td>\n",
              "      <td>1.32</td>\n",
              "      <td>71.81</td>\n",
              "      <td>0.51</td>\n",
              "      <td>8.78</td>\n",
              "      <td>0.11</td>\n",
              "      <td>0.00</td>\n",
              "      <td>1</td>\n",
              "    </tr>\n",
              "    <tr>\n",
              "      <th>61</th>\n",
              "      <td>1.51977</td>\n",
              "      <td>13.81</td>\n",
              "      <td>3.58</td>\n",
              "      <td>1.32</td>\n",
              "      <td>71.72</td>\n",
              "      <td>0.12</td>\n",
              "      <td>8.67</td>\n",
              "      <td>0.69</td>\n",
              "      <td>0.00</td>\n",
              "      <td>1</td>\n",
              "    </tr>\n",
              "    <tr>\n",
              "      <th>99</th>\n",
              "      <td>1.51811</td>\n",
              "      <td>12.96</td>\n",
              "      <td>2.96</td>\n",
              "      <td>1.43</td>\n",
              "      <td>72.92</td>\n",
              "      <td>0.60</td>\n",
              "      <td>8.79</td>\n",
              "      <td>0.14</td>\n",
              "      <td>0.00</td>\n",
              "      <td>2</td>\n",
              "    </tr>\n",
              "    <tr>\n",
              "      <th>100</th>\n",
              "      <td>1.51655</td>\n",
              "      <td>12.75</td>\n",
              "      <td>2.85</td>\n",
              "      <td>1.44</td>\n",
              "      <td>73.27</td>\n",
              "      <td>0.57</td>\n",
              "      <td>8.79</td>\n",
              "      <td>0.11</td>\n",
              "      <td>0.22</td>\n",
              "      <td>2</td>\n",
              "    </tr>\n",
              "    <tr>\n",
              "      <th>128</th>\n",
              "      <td>1.52068</td>\n",
              "      <td>13.55</td>\n",
              "      <td>2.09</td>\n",
              "      <td>1.67</td>\n",
              "      <td>72.18</td>\n",
              "      <td>0.53</td>\n",
              "      <td>9.57</td>\n",
              "      <td>0.27</td>\n",
              "      <td>0.17</td>\n",
              "      <td>2</td>\n",
              "    </tr>\n",
              "    <tr>\n",
              "      <th>141</th>\n",
              "      <td>1.51851</td>\n",
              "      <td>13.20</td>\n",
              "      <td>3.63</td>\n",
              "      <td>1.07</td>\n",
              "      <td>72.83</td>\n",
              "      <td>0.57</td>\n",
              "      <td>8.41</td>\n",
              "      <td>0.09</td>\n",
              "      <td>0.17</td>\n",
              "      <td>2</td>\n",
              "    </tr>\n",
              "    <tr>\n",
              "      <th>142</th>\n",
              "      <td>1.51662</td>\n",
              "      <td>12.85</td>\n",
              "      <td>3.51</td>\n",
              "      <td>1.44</td>\n",
              "      <td>73.01</td>\n",
              "      <td>0.68</td>\n",
              "      <td>8.23</td>\n",
              "      <td>0.06</td>\n",
              "      <td>0.25</td>\n",
              "      <td>2</td>\n",
              "    </tr>\n",
              "    <tr>\n",
              "      <th>161</th>\n",
              "      <td>1.51934</td>\n",
              "      <td>13.64</td>\n",
              "      <td>3.54</td>\n",
              "      <td>0.75</td>\n",
              "      <td>72.65</td>\n",
              "      <td>0.16</td>\n",
              "      <td>8.89</td>\n",
              "      <td>0.15</td>\n",
              "      <td>0.24</td>\n",
              "      <td>3</td>\n",
              "    </tr>\n",
              "    <tr>\n",
              "      <th>174</th>\n",
              "      <td>1.52058</td>\n",
              "      <td>12.85</td>\n",
              "      <td>1.61</td>\n",
              "      <td>2.17</td>\n",
              "      <td>72.18</td>\n",
              "      <td>0.76</td>\n",
              "      <td>9.70</td>\n",
              "      <td>0.24</td>\n",
              "      <td>0.51</td>\n",
              "      <td>5</td>\n",
              "    </tr>\n",
              "    <tr>\n",
              "      <th>185</th>\n",
              "      <td>1.51131</td>\n",
              "      <td>13.69</td>\n",
              "      <td>3.20</td>\n",
              "      <td>1.81</td>\n",
              "      <td>72.81</td>\n",
              "      <td>1.76</td>\n",
              "      <td>5.43</td>\n",
              "      <td>1.19</td>\n",
              "      <td>0.00</td>\n",
              "      <td>7</td>\n",
              "    </tr>\n",
              "    <tr>\n",
              "      <th>186</th>\n",
              "      <td>1.51838</td>\n",
              "      <td>14.32</td>\n",
              "      <td>3.26</td>\n",
              "      <td>2.22</td>\n",
              "      <td>71.25</td>\n",
              "      <td>1.46</td>\n",
              "      <td>5.79</td>\n",
              "      <td>1.63</td>\n",
              "      <td>0.00</td>\n",
              "      <td>7</td>\n",
              "    </tr>\n",
              "    <tr>\n",
              "      <th>189</th>\n",
              "      <td>1.52365</td>\n",
              "      <td>15.79</td>\n",
              "      <td>1.83</td>\n",
              "      <td>1.31</td>\n",
              "      <td>70.43</td>\n",
              "      <td>0.31</td>\n",
              "      <td>8.61</td>\n",
              "      <td>1.68</td>\n",
              "      <td>0.00</td>\n",
              "      <td>7</td>\n",
              "    </tr>\n",
              "    <tr>\n",
              "      <th>192</th>\n",
              "      <td>1.51623</td>\n",
              "      <td>14.20</td>\n",
              "      <td>0.00</td>\n",
              "      <td>2.79</td>\n",
              "      <td>73.46</td>\n",
              "      <td>0.04</td>\n",
              "      <td>9.04</td>\n",
              "      <td>0.40</td>\n",
              "      <td>0.09</td>\n",
              "      <td>7</td>\n",
              "    </tr>\n",
              "    <tr>\n",
              "      <th>195</th>\n",
              "      <td>1.51545</td>\n",
              "      <td>14.14</td>\n",
              "      <td>0.00</td>\n",
              "      <td>2.68</td>\n",
              "      <td>73.39</td>\n",
              "      <td>0.08</td>\n",
              "      <td>9.07</td>\n",
              "      <td>0.61</td>\n",
              "      <td>0.05</td>\n",
              "      <td>7</td>\n",
              "    </tr>\n",
              "    <tr>\n",
              "      <th>196</th>\n",
              "      <td>1.51556</td>\n",
              "      <td>13.87</td>\n",
              "      <td>0.00</td>\n",
              "      <td>2.54</td>\n",
              "      <td>73.23</td>\n",
              "      <td>0.14</td>\n",
              "      <td>9.41</td>\n",
              "      <td>0.81</td>\n",
              "      <td>0.01</td>\n",
              "      <td>7</td>\n",
              "    </tr>\n",
              "    <tr>\n",
              "      <th>198</th>\n",
              "      <td>1.51531</td>\n",
              "      <td>14.38</td>\n",
              "      <td>0.00</td>\n",
              "      <td>2.66</td>\n",
              "      <td>73.10</td>\n",
              "      <td>0.04</td>\n",
              "      <td>9.08</td>\n",
              "      <td>0.64</td>\n",
              "      <td>0.00</td>\n",
              "      <td>7</td>\n",
              "    </tr>\n",
              "    <tr>\n",
              "      <th>199</th>\n",
              "      <td>1.51609</td>\n",
              "      <td>15.01</td>\n",
              "      <td>0.00</td>\n",
              "      <td>2.51</td>\n",
              "      <td>73.05</td>\n",
              "      <td>0.05</td>\n",
              "      <td>8.83</td>\n",
              "      <td>0.53</td>\n",
              "      <td>0.00</td>\n",
              "      <td>7</td>\n",
              "    </tr>\n",
              "    <tr>\n",
              "      <th>209</th>\n",
              "      <td>1.51623</td>\n",
              "      <td>14.14</td>\n",
              "      <td>0.00</td>\n",
              "      <td>2.88</td>\n",
              "      <td>72.61</td>\n",
              "      <td>0.08</td>\n",
              "      <td>9.18</td>\n",
              "      <td>1.06</td>\n",
              "      <td>0.00</td>\n",
              "      <td>7</td>\n",
              "    </tr>\n",
              "  </tbody>\n",
              "</table>\n",
              "</div>\n",
              "      <button class=\"colab-df-convert\" onclick=\"convertToInteractive('df-65ea02de-69c7-4320-a7d9-b1cbe2df2036')\"\n",
              "              title=\"Convert this dataframe to an interactive table.\"\n",
              "              style=\"display:none;\">\n",
              "        \n",
              "  <svg xmlns=\"http://www.w3.org/2000/svg\" height=\"24px\"viewBox=\"0 0 24 24\"\n",
              "       width=\"24px\">\n",
              "    <path d=\"M0 0h24v24H0V0z\" fill=\"none\"/>\n",
              "    <path d=\"M18.56 5.44l.94 2.06.94-2.06 2.06-.94-2.06-.94-.94-2.06-.94 2.06-2.06.94zm-11 1L8.5 8.5l.94-2.06 2.06-.94-2.06-.94L8.5 2.5l-.94 2.06-2.06.94zm10 10l.94 2.06.94-2.06 2.06-.94-2.06-.94-.94-2.06-.94 2.06-2.06.94z\"/><path d=\"M17.41 7.96l-1.37-1.37c-.4-.4-.92-.59-1.43-.59-.52 0-1.04.2-1.43.59L10.3 9.45l-7.72 7.72c-.78.78-.78 2.05 0 2.83L4 21.41c.39.39.9.59 1.41.59.51 0 1.02-.2 1.41-.59l7.78-7.78 2.81-2.81c.8-.78.8-2.07 0-2.86zM5.41 20L4 18.59l7.72-7.72 1.47 1.35L5.41 20z\"/>\n",
              "  </svg>\n",
              "      </button>\n",
              "      \n",
              "  <style>\n",
              "    .colab-df-container {\n",
              "      display:flex;\n",
              "      flex-wrap:wrap;\n",
              "      gap: 12px;\n",
              "    }\n",
              "\n",
              "    .colab-df-convert {\n",
              "      background-color: #E8F0FE;\n",
              "      border: none;\n",
              "      border-radius: 50%;\n",
              "      cursor: pointer;\n",
              "      display: none;\n",
              "      fill: #1967D2;\n",
              "      height: 32px;\n",
              "      padding: 0 0 0 0;\n",
              "      width: 32px;\n",
              "    }\n",
              "\n",
              "    .colab-df-convert:hover {\n",
              "      background-color: #E2EBFA;\n",
              "      box-shadow: 0px 1px 2px rgba(60, 64, 67, 0.3), 0px 1px 3px 1px rgba(60, 64, 67, 0.15);\n",
              "      fill: #174EA6;\n",
              "    }\n",
              "\n",
              "    [theme=dark] .colab-df-convert {\n",
              "      background-color: #3B4455;\n",
              "      fill: #D2E3FC;\n",
              "    }\n",
              "\n",
              "    [theme=dark] .colab-df-convert:hover {\n",
              "      background-color: #434B5C;\n",
              "      box-shadow: 0px 1px 3px 1px rgba(0, 0, 0, 0.15);\n",
              "      filter: drop-shadow(0px 1px 2px rgba(0, 0, 0, 0.3));\n",
              "      fill: #FFFFFF;\n",
              "    }\n",
              "  </style>\n",
              "\n",
              "      <script>\n",
              "        const buttonEl =\n",
              "          document.querySelector('#df-65ea02de-69c7-4320-a7d9-b1cbe2df2036 button.colab-df-convert');\n",
              "        buttonEl.style.display =\n",
              "          google.colab.kernel.accessAllowed ? 'block' : 'none';\n",
              "\n",
              "        async function convertToInteractive(key) {\n",
              "          const element = document.querySelector('#df-65ea02de-69c7-4320-a7d9-b1cbe2df2036');\n",
              "          const dataTable =\n",
              "            await google.colab.kernel.invokeFunction('convertToInteractive',\n",
              "                                                     [key], {});\n",
              "          if (!dataTable) return;\n",
              "\n",
              "          const docLinkHtml = 'Like what you see? Visit the ' +\n",
              "            '<a target=\"_blank\" href=https://colab.research.google.com/notebooks/data_table.ipynb>data table notebook</a>'\n",
              "            + ' to learn more about interactive tables.';\n",
              "          element.innerHTML = '';\n",
              "          dataTable['output_type'] = 'display_data';\n",
              "          await google.colab.output.renderOutput(dataTable, element);\n",
              "          const docLink = document.createElement('div');\n",
              "          docLink.innerHTML = docLinkHtml;\n",
              "          element.appendChild(docLink);\n",
              "        }\n",
              "      </script>\n",
              "    </div>\n",
              "  </div>\n",
              "  "
            ]
          },
          "metadata": {},
          "execution_count": 234
        }
      ],
      "source": [
        "data"
      ]
    },
    {
      "cell_type": "code",
      "execution_count": 235,
      "metadata": {
        "id": "gFFLmiKXufr2"
      },
      "outputs": [],
      "source": [
        "# 4. Разделите эти данные на тестовую и обучающую выборки\n",
        "x = data.drop('Type', axis = 1) #факторные параметры\n",
        "y = data['Type'] # целевая переменная\n"
      ]
    },
    {
      "cell_type": "code",
      "execution_count": 236,
      "metadata": {
        "id": "HQ6gYKvsuLQA"
      },
      "outputs": [],
      "source": [
        "x_train, x_test, y_train, y_test = train_test_split(x, y, test_size = 0.2, random_state = True)"
      ]
    },
    {
      "cell_type": "code",
      "execution_count": 237,
      "metadata": {
        "colab": {
          "base_uri": "https://localhost:8080/",
          "height": 520
        },
        "id": "Ed9ZYICIzcmn",
        "outputId": "2afea67a-2874-42d2-c406-d2b062939c1f"
      },
      "outputs": [
        {
          "output_type": "execute_result",
          "data": {
            "text/plain": [
              "          RI     Na    Mg    Al     Si     K    Ca    Ba    Fe\n",
              "61   1.51977  13.81  3.58  1.32  71.72  0.12  8.67  0.69  0.00\n",
              "195  1.51545  14.14  0.00  2.68  73.39  0.08  9.07  0.61  0.05\n",
              "100  1.51655  12.75  2.85  1.44  73.27  0.57  8.79  0.11  0.22\n",
              "198  1.51531  14.38  0.00  2.66  73.10  0.04  9.08  0.64  0.00\n",
              "142  1.51662  12.85  3.51  1.44  73.01  0.68  8.23  0.06  0.25\n",
              "36   1.51909  13.89  3.53  1.32  71.81  0.51  8.78  0.11  0.00\n",
              "192  1.51623  14.20  0.00  2.79  73.46  0.04  9.04  0.40  0.09\n",
              "32   1.51775  12.85  3.48  1.23  72.97  0.61  8.56  0.09  0.22\n",
              "209  1.51623  14.14  0.00  2.88  72.61  0.08  9.18  1.06  0.00\n",
              "199  1.51609  15.01  0.00  2.51  73.05  0.05  8.83  0.53  0.00\n",
              "174  1.52058  12.85  1.61  2.17  72.18  0.76  9.70  0.24  0.51\n",
              "161  1.51934  13.64  3.54  0.75  72.65  0.16  8.89  0.15  0.24\n",
              "189  1.52365  15.79  1.83  1.31  70.43  0.31  8.61  1.68  0.00\n",
              "186  1.51838  14.32  3.26  2.22  71.25  1.46  5.79  1.63  0.00\n",
              "128  1.52068  13.55  2.09  1.67  72.18  0.53  9.57  0.27  0.17"
            ],
            "text/html": [
              "\n",
              "  <div id=\"df-e39d4a93-a0d4-44fb-913e-c54a65e1f678\">\n",
              "    <div class=\"colab-df-container\">\n",
              "      <div>\n",
              "<style scoped>\n",
              "    .dataframe tbody tr th:only-of-type {\n",
              "        vertical-align: middle;\n",
              "    }\n",
              "\n",
              "    .dataframe tbody tr th {\n",
              "        vertical-align: top;\n",
              "    }\n",
              "\n",
              "    .dataframe thead th {\n",
              "        text-align: right;\n",
              "    }\n",
              "</style>\n",
              "<table border=\"1\" class=\"dataframe\">\n",
              "  <thead>\n",
              "    <tr style=\"text-align: right;\">\n",
              "      <th></th>\n",
              "      <th>RI</th>\n",
              "      <th>Na</th>\n",
              "      <th>Mg</th>\n",
              "      <th>Al</th>\n",
              "      <th>Si</th>\n",
              "      <th>K</th>\n",
              "      <th>Ca</th>\n",
              "      <th>Ba</th>\n",
              "      <th>Fe</th>\n",
              "    </tr>\n",
              "  </thead>\n",
              "  <tbody>\n",
              "    <tr>\n",
              "      <th>61</th>\n",
              "      <td>1.51977</td>\n",
              "      <td>13.81</td>\n",
              "      <td>3.58</td>\n",
              "      <td>1.32</td>\n",
              "      <td>71.72</td>\n",
              "      <td>0.12</td>\n",
              "      <td>8.67</td>\n",
              "      <td>0.69</td>\n",
              "      <td>0.00</td>\n",
              "    </tr>\n",
              "    <tr>\n",
              "      <th>195</th>\n",
              "      <td>1.51545</td>\n",
              "      <td>14.14</td>\n",
              "      <td>0.00</td>\n",
              "      <td>2.68</td>\n",
              "      <td>73.39</td>\n",
              "      <td>0.08</td>\n",
              "      <td>9.07</td>\n",
              "      <td>0.61</td>\n",
              "      <td>0.05</td>\n",
              "    </tr>\n",
              "    <tr>\n",
              "      <th>100</th>\n",
              "      <td>1.51655</td>\n",
              "      <td>12.75</td>\n",
              "      <td>2.85</td>\n",
              "      <td>1.44</td>\n",
              "      <td>73.27</td>\n",
              "      <td>0.57</td>\n",
              "      <td>8.79</td>\n",
              "      <td>0.11</td>\n",
              "      <td>0.22</td>\n",
              "    </tr>\n",
              "    <tr>\n",
              "      <th>198</th>\n",
              "      <td>1.51531</td>\n",
              "      <td>14.38</td>\n",
              "      <td>0.00</td>\n",
              "      <td>2.66</td>\n",
              "      <td>73.10</td>\n",
              "      <td>0.04</td>\n",
              "      <td>9.08</td>\n",
              "      <td>0.64</td>\n",
              "      <td>0.00</td>\n",
              "    </tr>\n",
              "    <tr>\n",
              "      <th>142</th>\n",
              "      <td>1.51662</td>\n",
              "      <td>12.85</td>\n",
              "      <td>3.51</td>\n",
              "      <td>1.44</td>\n",
              "      <td>73.01</td>\n",
              "      <td>0.68</td>\n",
              "      <td>8.23</td>\n",
              "      <td>0.06</td>\n",
              "      <td>0.25</td>\n",
              "    </tr>\n",
              "    <tr>\n",
              "      <th>36</th>\n",
              "      <td>1.51909</td>\n",
              "      <td>13.89</td>\n",
              "      <td>3.53</td>\n",
              "      <td>1.32</td>\n",
              "      <td>71.81</td>\n",
              "      <td>0.51</td>\n",
              "      <td>8.78</td>\n",
              "      <td>0.11</td>\n",
              "      <td>0.00</td>\n",
              "    </tr>\n",
              "    <tr>\n",
              "      <th>192</th>\n",
              "      <td>1.51623</td>\n",
              "      <td>14.20</td>\n",
              "      <td>0.00</td>\n",
              "      <td>2.79</td>\n",
              "      <td>73.46</td>\n",
              "      <td>0.04</td>\n",
              "      <td>9.04</td>\n",
              "      <td>0.40</td>\n",
              "      <td>0.09</td>\n",
              "    </tr>\n",
              "    <tr>\n",
              "      <th>32</th>\n",
              "      <td>1.51775</td>\n",
              "      <td>12.85</td>\n",
              "      <td>3.48</td>\n",
              "      <td>1.23</td>\n",
              "      <td>72.97</td>\n",
              "      <td>0.61</td>\n",
              "      <td>8.56</td>\n",
              "      <td>0.09</td>\n",
              "      <td>0.22</td>\n",
              "    </tr>\n",
              "    <tr>\n",
              "      <th>209</th>\n",
              "      <td>1.51623</td>\n",
              "      <td>14.14</td>\n",
              "      <td>0.00</td>\n",
              "      <td>2.88</td>\n",
              "      <td>72.61</td>\n",
              "      <td>0.08</td>\n",
              "      <td>9.18</td>\n",
              "      <td>1.06</td>\n",
              "      <td>0.00</td>\n",
              "    </tr>\n",
              "    <tr>\n",
              "      <th>199</th>\n",
              "      <td>1.51609</td>\n",
              "      <td>15.01</td>\n",
              "      <td>0.00</td>\n",
              "      <td>2.51</td>\n",
              "      <td>73.05</td>\n",
              "      <td>0.05</td>\n",
              "      <td>8.83</td>\n",
              "      <td>0.53</td>\n",
              "      <td>0.00</td>\n",
              "    </tr>\n",
              "    <tr>\n",
              "      <th>174</th>\n",
              "      <td>1.52058</td>\n",
              "      <td>12.85</td>\n",
              "      <td>1.61</td>\n",
              "      <td>2.17</td>\n",
              "      <td>72.18</td>\n",
              "      <td>0.76</td>\n",
              "      <td>9.70</td>\n",
              "      <td>0.24</td>\n",
              "      <td>0.51</td>\n",
              "    </tr>\n",
              "    <tr>\n",
              "      <th>161</th>\n",
              "      <td>1.51934</td>\n",
              "      <td>13.64</td>\n",
              "      <td>3.54</td>\n",
              "      <td>0.75</td>\n",
              "      <td>72.65</td>\n",
              "      <td>0.16</td>\n",
              "      <td>8.89</td>\n",
              "      <td>0.15</td>\n",
              "      <td>0.24</td>\n",
              "    </tr>\n",
              "    <tr>\n",
              "      <th>189</th>\n",
              "      <td>1.52365</td>\n",
              "      <td>15.79</td>\n",
              "      <td>1.83</td>\n",
              "      <td>1.31</td>\n",
              "      <td>70.43</td>\n",
              "      <td>0.31</td>\n",
              "      <td>8.61</td>\n",
              "      <td>1.68</td>\n",
              "      <td>0.00</td>\n",
              "    </tr>\n",
              "    <tr>\n",
              "      <th>186</th>\n",
              "      <td>1.51838</td>\n",
              "      <td>14.32</td>\n",
              "      <td>3.26</td>\n",
              "      <td>2.22</td>\n",
              "      <td>71.25</td>\n",
              "      <td>1.46</td>\n",
              "      <td>5.79</td>\n",
              "      <td>1.63</td>\n",
              "      <td>0.00</td>\n",
              "    </tr>\n",
              "    <tr>\n",
              "      <th>128</th>\n",
              "      <td>1.52068</td>\n",
              "      <td>13.55</td>\n",
              "      <td>2.09</td>\n",
              "      <td>1.67</td>\n",
              "      <td>72.18</td>\n",
              "      <td>0.53</td>\n",
              "      <td>9.57</td>\n",
              "      <td>0.27</td>\n",
              "      <td>0.17</td>\n",
              "    </tr>\n",
              "  </tbody>\n",
              "</table>\n",
              "</div>\n",
              "      <button class=\"colab-df-convert\" onclick=\"convertToInteractive('df-e39d4a93-a0d4-44fb-913e-c54a65e1f678')\"\n",
              "              title=\"Convert this dataframe to an interactive table.\"\n",
              "              style=\"display:none;\">\n",
              "        \n",
              "  <svg xmlns=\"http://www.w3.org/2000/svg\" height=\"24px\"viewBox=\"0 0 24 24\"\n",
              "       width=\"24px\">\n",
              "    <path d=\"M0 0h24v24H0V0z\" fill=\"none\"/>\n",
              "    <path d=\"M18.56 5.44l.94 2.06.94-2.06 2.06-.94-2.06-.94-.94-2.06-.94 2.06-2.06.94zm-11 1L8.5 8.5l.94-2.06 2.06-.94-2.06-.94L8.5 2.5l-.94 2.06-2.06.94zm10 10l.94 2.06.94-2.06 2.06-.94-2.06-.94-.94-2.06-.94 2.06-2.06.94z\"/><path d=\"M17.41 7.96l-1.37-1.37c-.4-.4-.92-.59-1.43-.59-.52 0-1.04.2-1.43.59L10.3 9.45l-7.72 7.72c-.78.78-.78 2.05 0 2.83L4 21.41c.39.39.9.59 1.41.59.51 0 1.02-.2 1.41-.59l7.78-7.78 2.81-2.81c.8-.78.8-2.07 0-2.86zM5.41 20L4 18.59l7.72-7.72 1.47 1.35L5.41 20z\"/>\n",
              "  </svg>\n",
              "      </button>\n",
              "      \n",
              "  <style>\n",
              "    .colab-df-container {\n",
              "      display:flex;\n",
              "      flex-wrap:wrap;\n",
              "      gap: 12px;\n",
              "    }\n",
              "\n",
              "    .colab-df-convert {\n",
              "      background-color: #E8F0FE;\n",
              "      border: none;\n",
              "      border-radius: 50%;\n",
              "      cursor: pointer;\n",
              "      display: none;\n",
              "      fill: #1967D2;\n",
              "      height: 32px;\n",
              "      padding: 0 0 0 0;\n",
              "      width: 32px;\n",
              "    }\n",
              "\n",
              "    .colab-df-convert:hover {\n",
              "      background-color: #E2EBFA;\n",
              "      box-shadow: 0px 1px 2px rgba(60, 64, 67, 0.3), 0px 1px 3px 1px rgba(60, 64, 67, 0.15);\n",
              "      fill: #174EA6;\n",
              "    }\n",
              "\n",
              "    [theme=dark] .colab-df-convert {\n",
              "      background-color: #3B4455;\n",
              "      fill: #D2E3FC;\n",
              "    }\n",
              "\n",
              "    [theme=dark] .colab-df-convert:hover {\n",
              "      background-color: #434B5C;\n",
              "      box-shadow: 0px 1px 3px 1px rgba(0, 0, 0, 0.15);\n",
              "      filter: drop-shadow(0px 1px 2px rgba(0, 0, 0, 0.3));\n",
              "      fill: #FFFFFF;\n",
              "    }\n",
              "  </style>\n",
              "\n",
              "      <script>\n",
              "        const buttonEl =\n",
              "          document.querySelector('#df-e39d4a93-a0d4-44fb-913e-c54a65e1f678 button.colab-df-convert');\n",
              "        buttonEl.style.display =\n",
              "          google.colab.kernel.accessAllowed ? 'block' : 'none';\n",
              "\n",
              "        async function convertToInteractive(key) {\n",
              "          const element = document.querySelector('#df-e39d4a93-a0d4-44fb-913e-c54a65e1f678');\n",
              "          const dataTable =\n",
              "            await google.colab.kernel.invokeFunction('convertToInteractive',\n",
              "                                                     [key], {});\n",
              "          if (!dataTable) return;\n",
              "\n",
              "          const docLinkHtml = 'Like what you see? Visit the ' +\n",
              "            '<a target=\"_blank\" href=https://colab.research.google.com/notebooks/data_table.ipynb>data table notebook</a>'\n",
              "            + ' to learn more about interactive tables.';\n",
              "          element.innerHTML = '';\n",
              "          dataTable['output_type'] = 'display_data';\n",
              "          await google.colab.output.renderOutput(dataTable, element);\n",
              "          const docLink = document.createElement('div');\n",
              "          docLink.innerHTML = docLinkHtml;\n",
              "          element.appendChild(docLink);\n",
              "        }\n",
              "      </script>\n",
              "    </div>\n",
              "  </div>\n",
              "  "
            ]
          },
          "metadata": {},
          "execution_count": 237
        }
      ],
      "source": [
        "x_train"
      ]
    },
    {
      "cell_type": "code",
      "execution_count": 238,
      "metadata": {
        "colab": {
          "base_uri": "https://localhost:8080/"
        },
        "id": "6NuDANeBc6nk",
        "outputId": "60d93746-8ae6-46cd-f6a4-5751779aac7c"
      },
      "outputs": [
        {
          "output_type": "execute_result",
          "data": {
            "text/plain": [
              "99     2\n",
              "196    7\n",
              "141    2\n",
              "185    7\n",
              "Name: Type, dtype: int64"
            ]
          },
          "metadata": {},
          "execution_count": 238
        }
      ],
      "source": [
        "y_test"
      ]
    },
    {
      "cell_type": "code",
      "execution_count": 239,
      "metadata": {
        "id": "p2AxRJwszGLV"
      },
      "outputs": [],
      "source": [
        "# Нормализация\n",
        "x_train = MinMaxScaler().fit_transform(x_train) \n",
        "x_test = MinMaxScaler().fit_transform(x_test)"
      ]
    },
    {
      "cell_type": "code",
      "execution_count": 240,
      "metadata": {
        "colab": {
          "base_uri": "https://localhost:8080/"
        },
        "id": "q1D6QjlOzU9F",
        "outputId": "a4572c26-7f58-46f9-8285-ca87b4d0f0c8"
      },
      "outputs": [
        {
          "output_type": "execute_result",
          "data": {
            "text/plain": [
              "array([[0.53477218, 0.34868421, 1.        , 0.26760563, 0.42574257,\n",
              "        0.05633803, 0.73657289, 0.38888889, 0.        ],\n",
              "       [0.01678657, 0.45723684, 0.        , 0.90610329, 0.97689769,\n",
              "        0.02816901, 0.83887468, 0.33950617, 0.09803922],\n",
              "       [0.14868106, 0.        , 0.79608939, 0.32394366, 0.93729373,\n",
              "        0.37323944, 0.76726343, 0.0308642 , 0.43137255],\n",
              "       [0.        , 0.53618421, 0.        , 0.89671362, 0.88118812,\n",
              "        0.        , 0.84143223, 0.35802469, 0.        ],\n",
              "       [0.15707434, 0.03289474, 0.98044693, 0.32394366, 0.85148515,\n",
              "        0.45070423, 0.62404092, 0.        , 0.49019608],\n",
              "       [0.45323741, 0.375     , 0.98603352, 0.26760563, 0.45544554,\n",
              "        0.33098592, 0.76470588, 0.0308642 , 0.        ],\n",
              "       [0.11031175, 0.47697368, 0.        , 0.95774648, 1.        ,\n",
              "        0.        , 0.83120205, 0.20987654, 0.17647059],\n",
              "       [0.29256595, 0.03289474, 0.97206704, 0.22535211, 0.83828383,\n",
              "        0.40140845, 0.7084399 , 0.01851852, 0.43137255],\n",
              "       [0.11031175, 0.45723684, 0.        , 1.        , 0.71947195,\n",
              "        0.02816901, 0.86700767, 0.61728395, 0.        ],\n",
              "       [0.09352518, 0.74342105, 0.        , 0.82629108, 0.86468647,\n",
              "        0.00704225, 0.77749361, 0.29012346, 0.        ],\n",
              "       [0.63189448, 0.03289474, 0.44972067, 0.66666667, 0.57755776,\n",
              "        0.50704225, 1.        , 0.11111111, 1.        ],\n",
              "       [0.48321343, 0.29276316, 0.98882682, 0.        , 0.73267327,\n",
              "        0.08450704, 0.79283887, 0.05555556, 0.47058824],\n",
              "       [1.        , 1.        , 0.51117318, 0.2629108 , 0.        ,\n",
              "        0.19014085, 0.72122762, 1.        , 0.        ],\n",
              "       [0.36810552, 0.51644737, 0.91061453, 0.69014085, 0.27062706,\n",
              "        1.        , 0.        , 0.9691358 , 0.        ],\n",
              "       [0.64388489, 0.26315789, 0.58379888, 0.43192488, 0.57755776,\n",
              "        0.34507042, 0.96675192, 0.12962963, 0.33333333]])"
            ]
          },
          "metadata": {},
          "execution_count": 240
        }
      ],
      "source": [
        "x_train"
      ]
    },
    {
      "cell_type": "markdown",
      "metadata": {
        "id": "Dgs2XjUtf9ej"
      },
      "source": [
        "Постройте модель классификации для определения Type\n",
        "\n"
      ]
    },
    {
      "cell_type": "code",
      "execution_count": 241,
      "metadata": {
        "colab": {
          "base_uri": "https://localhost:8080/"
        },
        "id": "DfPGKa7aS6ls",
        "outputId": "3f0b8187-6bd4-45e0-ea60-82dc438cc2f8"
      },
      "outputs": [
        {
          "output_type": "stream",
          "name": "stdout",
          "text": [
            "[0.66666667 0.33333333 0.33333333 0.66666667 0.        ]\n"
          ]
        },
        {
          "output_type": "stream",
          "name": "stderr",
          "text": [
            "/usr/local/lib/python3.8/dist-packages/sklearn/model_selection/_split.py:676: UserWarning: The least populated class in y has only 1 members, which is less than n_splits=5.\n",
            "  warnings.warn(\n"
          ]
        },
        {
          "output_type": "execute_result",
          "data": {
            "text/plain": [
              "0.4"
            ]
          },
          "metadata": {},
          "execution_count": 241
        }
      ],
      "source": [
        "cls = LogisticRegression() #логистическая регрессия (LogisticRegression)\n",
        "scores = cross_validate(cls, x_train, y_train, cv=5)\n",
        "print(scores[\"test_score\"])\n",
        "np.mean(scores[\"test_score\"])"
      ]
    },
    {
      "cell_type": "code",
      "execution_count": 242,
      "metadata": {
        "colab": {
          "base_uri": "https://localhost:8080/"
        },
        "id": "v60JFaWvztm7",
        "outputId": "ab2bc0c8-8ad8-4b4d-f17b-bda5c21d31de"
      },
      "outputs": [
        {
          "output_type": "stream",
          "name": "stdout",
          "text": [
            "[1.         1.         0.33333333 0.66666667 0.        ]\n"
          ]
        },
        {
          "output_type": "stream",
          "name": "stderr",
          "text": [
            "/usr/local/lib/python3.8/dist-packages/sklearn/model_selection/_split.py:676: UserWarning: The least populated class in y has only 1 members, which is less than n_splits=5.\n",
            "  warnings.warn(\n"
          ]
        },
        {
          "output_type": "execute_result",
          "data": {
            "text/plain": [
              "0.6"
            ]
          },
          "metadata": {},
          "execution_count": 242
        }
      ],
      "source": [
        "svc = SVC() #метод опорных векторов с линейным ядром (SVC(kernel='linear'))\n",
        "scores = cross_validate(svc, x_train, y_train, cv=5)\n",
        "print(scores[\"test_score\"])\n",
        "np.mean(scores[\"test_score\"])"
      ]
    },
    {
      "cell_type": "code",
      "execution_count": 243,
      "metadata": {
        "colab": {
          "base_uri": "https://localhost:8080/"
        },
        "id": "zP-laZxyztvz",
        "outputId": "8acf61e6-d598-4964-8ea1-15fb5f5ca277"
      },
      "outputs": [
        {
          "output_type": "stream",
          "name": "stdout",
          "text": [
            "[0.33333333 0.66666667 0.66666667 0.66666667 0.33333333]\n"
          ]
        },
        {
          "output_type": "stream",
          "name": "stderr",
          "text": [
            "/usr/local/lib/python3.8/dist-packages/sklearn/model_selection/_split.py:676: UserWarning: The least populated class in y has only 1 members, which is less than n_splits=5.\n",
            "  warnings.warn(\n"
          ]
        },
        {
          "output_type": "execute_result",
          "data": {
            "text/plain": [
              "0.5333333333333333"
            ]
          },
          "metadata": {},
          "execution_count": 243
        }
      ],
      "source": [
        "lda = LinearDiscriminantAnalysis() #метод линейного дискриминантного анализа (LinearDiscriminantAnalysis)\n",
        "scores = cross_validate(lda, x_train, y_train, cv=5)\n",
        "print(scores[\"test_score\"])\n",
        "np.mean(scores[\"test_score\"])"
      ]
    },
    {
      "cell_type": "code",
      "execution_count": 244,
      "metadata": {
        "colab": {
          "base_uri": "https://localhost:8080/"
        },
        "id": "djuV3Pan0sps",
        "outputId": "f98d5613-9f76-4dde-b3f4-572a9d59a97a"
      },
      "outputs": [
        {
          "output_type": "stream",
          "name": "stdout",
          "text": [
            "[0.66666667 0.66666667 0.66666667 0.66666667 0.        ]\n"
          ]
        },
        {
          "output_type": "stream",
          "name": "stderr",
          "text": [
            "/usr/local/lib/python3.8/dist-packages/sklearn/model_selection/_split.py:676: UserWarning: The least populated class in y has only 1 members, which is less than n_splits=5.\n",
            "  warnings.warn(\n"
          ]
        },
        {
          "output_type": "execute_result",
          "data": {
            "text/plain": [
              "0.5333333333333333"
            ]
          },
          "metadata": {},
          "execution_count": 244
        }
      ],
      "source": [
        "knn = KNeighborsClassifier() #метод k ближайших соседей (KNeighborsClassifier с двумя классами)\n",
        "scores = cross_validate(knn, x_train, y_train, cv=5)\n",
        "print(scores[\"test_score\"])\n",
        "np.mean(scores[\"test_score\"])"
      ]
    },
    {
      "cell_type": "markdown",
      "metadata": {
        "id": "Jd-MZVEDdjCD"
      },
      "source": [
        "### По результатам кросс-валидации, наилучший результат показала модель логистической регрессии"
      ]
    },
    {
      "cell_type": "markdown",
      "metadata": {
        "id": "xV3o6DycgEyb"
      },
      "source": [
        "# Оцените качество модели на тестовой выборке с помощью следующих метрик:\n"
      ]
    },
    {
      "cell_type": "markdown",
      "metadata": {
        "id": "jBHBwRvQgOfN"
      },
      "source": [
        "достоверность предсказания (accuracy); точность (precision); полнота (recall);\n",
        "\n"
      ]
    },
    {
      "cell_type": "code",
      "execution_count": 245,
      "metadata": {
        "colab": {
          "base_uri": "https://localhost:8080/"
        },
        "id": "HJRzUa913M6i",
        "outputId": "373602e0-a92e-4dda-c6a2-9b9490bba091"
      },
      "outputs": [
        {
          "output_type": "execute_result",
          "data": {
            "text/plain": [
              "LogisticRegression()"
            ]
          },
          "metadata": {},
          "execution_count": 245
        }
      ],
      "source": [
        "svc = LogisticRegression() #логистическая регрессия\n",
        "svc.fit(x_train, y_train)"
      ]
    },
    {
      "cell_type": "code",
      "execution_count": 246,
      "metadata": {
        "colab": {
          "base_uri": "https://localhost:8080/"
        },
        "id": "j0LcaUL1gFWx",
        "outputId": "9279339f-f26e-45a7-d912-795e6162846c"
      },
      "outputs": [
        {
          "output_type": "execute_result",
          "data": {
            "text/plain": [
              "array([[0, 0, 0],\n",
              "       [2, 0, 0],\n",
              "       [0, 0, 2]])"
            ]
          },
          "metadata": {},
          "execution_count": 246
        }
      ],
      "source": [
        "y_pred = svc.predict(x_test)\n",
        "metrics.confusion_matrix(y_test, y_pred)"
      ]
    },
    {
      "cell_type": "code",
      "execution_count": 247,
      "metadata": {
        "colab": {
          "base_uri": "https://localhost:8080/"
        },
        "id": "knDvnhYvgU9H",
        "outputId": "5d2274c3-2490-4e9d-cd12-d58cf07ea4d0"
      },
      "outputs": [
        {
          "output_type": "execute_result",
          "data": {
            "text/plain": [
              "0.5"
            ]
          },
          "metadata": {},
          "execution_count": 247
        }
      ],
      "source": [
        "#Метрика достоверности предсказания:\n",
        "metrics.accuracy_score(y_test, y_pred)"
      ]
    },
    {
      "cell_type": "code",
      "execution_count": 248,
      "metadata": {
        "colab": {
          "base_uri": "https://localhost:8080/"
        },
        "id": "dJMsZs-FgW4d",
        "outputId": "fba4d569-4274-426f-9d3e-52a04226d33c"
      },
      "outputs": [
        {
          "output_type": "execute_result",
          "data": {
            "text/plain": [
              "0.5"
            ]
          },
          "metadata": {},
          "execution_count": 248
        }
      ],
      "source": [
        "#Метрика точности:\n",
        "metrics.precision_score(y_test, y_pred, pos_label=1, average='micro')"
      ]
    },
    {
      "cell_type": "code",
      "execution_count": 249,
      "metadata": {
        "colab": {
          "base_uri": "https://localhost:8080/"
        },
        "id": "_Tui2_zCgZF4",
        "outputId": "ceb71ed5-1e2c-4abd-e576-814b61e5189b"
      },
      "outputs": [
        {
          "output_type": "execute_result",
          "data": {
            "text/plain": [
              "0.5"
            ]
          },
          "metadata": {},
          "execution_count": 249
        }
      ],
      "source": [
        "#Метрика полноты:\n",
        "metrics.recall_score(y_test, y_pred,  pos_label=1, average='micro')"
      ]
    },
    {
      "cell_type": "code",
      "execution_count": 250,
      "metadata": {
        "colab": {
          "base_uri": "https://localhost:8080/",
          "height": 300
        },
        "id": "IeJeBAD2g5eO",
        "outputId": "3489e36a-ac56-4db9-bd1e-d89eb83956a9"
      },
      "outputs": [
        {
          "output_type": "execute_result",
          "data": {
            "text/plain": [
              "Text(0.5, 15.0, 'Предсказанные значения')"
            ]
          },
          "metadata": {},
          "execution_count": 250
        },
        {
          "output_type": "display_data",
          "data": {
            "text/plain": [
              "<Figure size 432x288 with 2 Axes>"
            ],
            "image/png": "[encoded data removed]"
          },
          "metadata": {
            "needs_background": "light"
          }
        }
      ],
      "source": [
        "%matplotlib inline\n",
        "class_names = [0, 1]\n",
        "fig, ax = plt.subplots()\n",
        "ticks = np.arange(len(class_names))\n",
        "plt.xticks(ticks, class_names)\n",
        "plt.yticks(ticks, class_names)\n",
        "sns.heatmap(pd.DataFrame(\n",
        "    metrics.confusion_matrix(y_test, y_pred)), # оцениваем точность классификации\n",
        "    annot=True)\n",
        "plt.ylabel('Действительные значения')\n",
        "plt.xlabel('Предсказанные значения')"
      ]
    }
  ],
  "metadata": {
    "colab": {
      "provenance": []
    },
    "kernelspec": {
      "display_name": "Python 3 (ipykernel)",
      "language": "python",
      "name": "python3"
    },
    "language_info": {
      "codemirror_mode": {
        "name": "ipython",
        "version": 3
      },
      "file_extension": ".py",
      "mimetype": "text/x-python",
      "name": "python",
      "nbconvert_exporter": "python",
      "pygments_lexer": "ipython3",
      "version": "3.10.0"
    }
  },
  "nbformat": 4,
  "nbformat_minor": 0
}